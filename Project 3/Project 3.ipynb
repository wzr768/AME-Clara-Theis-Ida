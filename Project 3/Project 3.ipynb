{
 "cells": [
  {
   "cell_type": "markdown",
   "metadata": {},
   "source": [
    "# Project III: Classical Non-linear Models and Police use of force\n",
    "This notebook uses the Police Public Contact Survey (PPCS) dataset: `ppcs_cc.csv`."
   ]
  },
  {
   "cell_type": "code",
   "execution_count": 281,
   "metadata": {},
   "outputs": [
    {
     "name": "stdout",
     "output_type": "stream",
     "text": [
      "The autoreload extension is already loaded. To reload it, use:\n",
      "  %reload_ext autoreload\n"
     ]
    }
   ],
   "source": [
    "%load_ext autoreload\n",
    "%autoreload 2\n",
    "\n",
    "import pandas as pd \n",
    "import numpy as np\n",
    "import seaborn as sns\n",
    "import matplotlib.pyplot as plt \n",
    "import probit as probit\n",
    "import logit as logit\n",
    "import estimation as est\n",
    "from scipy.stats import norm\n",
    "from scipy.stats import t"
   ]
  },
  {
   "cell_type": "markdown",
   "metadata": {},
   "source": [
    "### Load the data "
   ]
  },
  {
   "cell_type": "code",
   "execution_count": 282,
   "metadata": {},
   "outputs": [
    {
     "name": "stdout",
     "output_type": "stream",
     "text": [
      "\n",
      "Distribution of 'anyuseofforce_coded':\n",
      "anyuseofforce_coded\n",
      "0    0.994999\n",
      "1    0.005001\n",
      "Name: proportion, dtype: float64\n",
      "\n",
      "Value Counts for sblack:\n",
      "sblack\n",
      "0    3379\n",
      "1     420\n",
      "Name: count, dtype: int64\n",
      "\n",
      "Value Counts for shisp:\n",
      "shisp\n",
      "0    3413\n",
      "1     386\n",
      "Name: count, dtype: int64\n",
      "\n",
      "Value Counts for swhite:\n",
      "swhite\n",
      "1    2808\n",
      "0     991\n",
      "Name: count, dtype: int64\n",
      "\n",
      "Value Counts for sother:\n",
      "sother\n",
      "0    3614\n",
      "1     185\n",
      "Name: count, dtype: int64\n",
      "\n",
      "Value Counts for smale:\n",
      "smale\n",
      "1    2012\n",
      "0    1787\n",
      "Name: count, dtype: int64\n",
      "\n",
      "Value Counts for omajblack:\n",
      "omajblack\n",
      "0    3568\n",
      "1     231\n",
      "Name: count, dtype: int64\n",
      "\n",
      "Value Counts for omajhisp:\n",
      "omajhisp\n",
      "0    3708\n",
      "1      91\n",
      "Name: count, dtype: int64\n",
      "\n",
      "Value Counts for omajwhite:\n",
      "omajwhite\n",
      "1    3433\n",
      "0     366\n",
      "Name: count, dtype: int64\n",
      "\n",
      "Value Counts for omajother:\n",
      "omajother\n",
      "0    3755\n",
      "1      44\n",
      "Name: count, dtype: int64\n",
      "\n",
      "Value Counts for osplit:\n",
      "osplit\n",
      "0    3799\n",
      "Name: count, dtype: int64\n",
      "\n",
      "Value Counts for inctype_lin:\n",
      "inctype_lin\n",
      "2    3641\n",
      "1     158\n",
      "Name: count, dtype: int64\n",
      "\n",
      "Value Counts for sbehavior:\n",
      "sbehavior\n",
      "0    3552\n",
      "1     247\n",
      "Name: count, dtype: int64\n"
     ]
    }
   ],
   "source": [
    "# Load the dataset\n",
    "dat = pd.read_csv('ppcs_cc.csv')\n",
    "\n",
    "# Inspect distribution of the target variable\n",
    "print(\"\\nDistribution of 'anyuseofforce_coded':\")\n",
    "print(dat['anyuseofforce_coded'].value_counts(normalize=True))\n",
    "\n",
    "# Inspect value counts for categorical variables\n",
    "categorical_vars = [\"sblack\", \"shisp\", \"swhite\", \"sother\", \"smale\", \"omajblack\", \n",
    "                    \"omajhisp\", \"omajwhite\", \"omajother\", \"osplit\", \"inctype_lin\", \"sbehavior\"]\n",
    "\n",
    "for var in categorical_vars:\n",
    "    print(f\"\\nValue Counts for {var}:\")\n",
    "    print(dat[var].value_counts())"
   ]
  },
  {
   "cell_type": "markdown",
   "metadata": {},
   "source": [
    "Table with summary statistics"
   ]
  },
  {
   "cell_type": "code",
   "execution_count": 283,
   "metadata": {},
   "outputs": [
    {
     "name": "stdout",
     "output_type": "stream",
     "text": [
      "                        Full Sample       Swhite       Sblack        Shisp  \\\n",
      "Variable                                                                     \n",
      "sblack                     0.110555     0.000000     1.000000     0.000000   \n",
      "shisp                      0.101606     0.000000     0.000000     1.000000   \n",
      "swhite                     0.739142     1.000000     0.000000     0.000000   \n",
      "sother                     0.048697     0.000000     0.000000     0.000000   \n",
      "smale                      0.529613     0.521368     0.519048     0.585492   \n",
      "sage                      41.010003    42.147792    39.183333    36.225389   \n",
      "sempl                      0.695446     0.699786     0.688095     0.676166   \n",
      "sincome                    2.164780     2.218305     1.935714     1.997409   \n",
      "spop                       1.362727     1.271011     1.657143     1.652850   \n",
      "daytime                    0.666491     0.680912     0.621429     0.642487   \n",
      "inctype_lin                1.958410     1.957621     1.966667     1.953368   \n",
      "omajblack                  0.060805     0.048789     0.159524     0.046632   \n",
      "omajhisp                   0.023954     0.015313     0.045238     0.069948   \n",
      "omajwhite                  0.903659     0.929487     0.773810     0.865285   \n",
      "omajother                  0.011582     0.006410     0.021429     0.018135   \n",
      "osplit                     0.000000     0.000000     0.000000     0.000000   \n",
      "sbehavior                  0.065017     0.059117     0.083333     0.077720   \n",
      "year                    2011.000000  2011.000000  2011.000000  2011.000000   \n",
      "anyuseofforce_coded        0.005001     0.003205     0.007143     0.015544   \n",
      "Number of Observations  3799.000000  2808.000000   420.000000   386.000000   \n",
      "\n",
      "                             Sother  \n",
      "Variable                             \n",
      "sblack                     0.000000  \n",
      "shisp                      0.000000  \n",
      "swhite                     0.000000  \n",
      "sother                     1.000000  \n",
      "smale                      0.562162  \n",
      "sage                      37.870270  \n",
      "sempl                      0.686486  \n",
      "sincome                    2.221622  \n",
      "spop                       1.481081  \n",
      "daytime                    0.600000  \n",
      "inctype_lin                1.962162  \n",
      "omajblack                  0.048649  \n",
      "omajhisp                   0.010811  \n",
      "omajwhite                  0.886486  \n",
      "omajother                  0.054054  \n",
      "osplit                     0.000000  \n",
      "sbehavior                  0.086486  \n",
      "year                    2011.000000  \n",
      "anyuseofforce_coded        0.005405  \n",
      "Number of Observations   185.000000  \n"
     ]
    }
   ],
   "source": [
    "# Define groups for demographic categories\n",
    "group_vars = [\"swhite\", \"sblack\", \"shisp\", \"sother\"]\n",
    "\n",
    "# List of all variables for which we want to compute means\n",
    "all_vars = dat.columns\n",
    "\n",
    "# Initialize an empty DataFrame to store results\n",
    "summary_table = pd.DataFrame()\n",
    "\n",
    "# Calculate the overall mean for each variable\n",
    "overall_means = dat[all_vars].mean()\n",
    "summary_table[\"Variable\"] = all_vars\n",
    "summary_table[\"Full Sample\"] = overall_means.values\n",
    "\n",
    "# Calculate the mean for each variable within each group\n",
    "for group in group_vars:\n",
    "    group_means = dat.loc[dat[group] == 1, all_vars].mean()\n",
    "    summary_table[group.capitalize()] = group_means.values\n",
    "\n",
    "# Add a row for \"Number of Observations\"\n",
    "num_obs_row = pd.DataFrame({\n",
    "    \"Variable\": [\"Number of Observations\"],\n",
    "    \"Full Sample\": [dat.shape[0]],\n",
    "    **{group.capitalize(): [dat.loc[dat[group] == 1].shape[0]] for group in group_vars}\n",
    "})\n",
    "\n",
    "# Append the \"Number of Observations\" row to the summary table\n",
    "summary_table = pd.concat([summary_table, num_obs_row], ignore_index=True)\n",
    "\n",
    "# Format the table for display\n",
    "summary_table = summary_table.set_index(\"Variable\")\n",
    "print(summary_table)\n",
    "\n",
    "# Optional: Save the table to a CSV for further analysis\n",
    "summary_table.to_csv('grouped_summary_statistics_with_observations.csv')\n"
   ]
  },
  {
   "cell_type": "code",
   "execution_count": 284,
   "metadata": {},
   "outputs": [
    {
     "data": {
      "text/html": [
       "<div>\n",
       "<style scoped>\n",
       "    .dataframe tbody tr th:only-of-type {\n",
       "        vertical-align: middle;\n",
       "    }\n",
       "\n",
       "    .dataframe tbody tr th {\n",
       "        vertical-align: top;\n",
       "    }\n",
       "\n",
       "    .dataframe thead th {\n",
       "        text-align: right;\n",
       "    }\n",
       "</style>\n",
       "<table border=\"1\" class=\"dataframe\">\n",
       "  <thead>\n",
       "    <tr style=\"text-align: right;\">\n",
       "      <th></th>\n",
       "      <th>anyuseofforce_coded</th>\n",
       "      <th>const</th>\n",
       "      <th>sblack</th>\n",
       "      <th>shisp</th>\n",
       "      <th>sother</th>\n",
       "      <th>smale</th>\n",
       "      <th>sempl</th>\n",
       "      <th>sincome</th>\n",
       "      <th>spop</th>\n",
       "      <th>sage</th>\n",
       "      <th>sagesq</th>\n",
       "      <th>daytime</th>\n",
       "      <th>inctype_lin</th>\n",
       "      <th>omajblack</th>\n",
       "      <th>omajhisp</th>\n",
       "      <th>omajother</th>\n",
       "      <th>sbehavior</th>\n",
       "    </tr>\n",
       "  </thead>\n",
       "  <tbody>\n",
       "    <tr>\n",
       "      <th>3794</th>\n",
       "      <td>0</td>\n",
       "      <td>1.0</td>\n",
       "      <td>0</td>\n",
       "      <td>0</td>\n",
       "      <td>0</td>\n",
       "      <td>0</td>\n",
       "      <td>1</td>\n",
       "      <td>3</td>\n",
       "      <td>1</td>\n",
       "      <td>7.2</td>\n",
       "      <td>51.84</td>\n",
       "      <td>0</td>\n",
       "      <td>1</td>\n",
       "      <td>0</td>\n",
       "      <td>0</td>\n",
       "      <td>0</td>\n",
       "      <td>1</td>\n",
       "    </tr>\n",
       "    <tr>\n",
       "      <th>3795</th>\n",
       "      <td>0</td>\n",
       "      <td>1.0</td>\n",
       "      <td>0</td>\n",
       "      <td>0</td>\n",
       "      <td>0</td>\n",
       "      <td>0</td>\n",
       "      <td>0</td>\n",
       "      <td>2</td>\n",
       "      <td>1</td>\n",
       "      <td>7.1</td>\n",
       "      <td>50.41</td>\n",
       "      <td>1</td>\n",
       "      <td>2</td>\n",
       "      <td>0</td>\n",
       "      <td>0</td>\n",
       "      <td>0</td>\n",
       "      <td>0</td>\n",
       "    </tr>\n",
       "    <tr>\n",
       "      <th>3796</th>\n",
       "      <td>0</td>\n",
       "      <td>1.0</td>\n",
       "      <td>0</td>\n",
       "      <td>0</td>\n",
       "      <td>0</td>\n",
       "      <td>0</td>\n",
       "      <td>0</td>\n",
       "      <td>1</td>\n",
       "      <td>1</td>\n",
       "      <td>7.6</td>\n",
       "      <td>57.76</td>\n",
       "      <td>1</td>\n",
       "      <td>2</td>\n",
       "      <td>0</td>\n",
       "      <td>0</td>\n",
       "      <td>0</td>\n",
       "      <td>0</td>\n",
       "    </tr>\n",
       "    <tr>\n",
       "      <th>3797</th>\n",
       "      <td>0</td>\n",
       "      <td>1.0</td>\n",
       "      <td>0</td>\n",
       "      <td>0</td>\n",
       "      <td>0</td>\n",
       "      <td>0</td>\n",
       "      <td>0</td>\n",
       "      <td>3</td>\n",
       "      <td>4</td>\n",
       "      <td>7.9</td>\n",
       "      <td>62.41</td>\n",
       "      <td>1</td>\n",
       "      <td>2</td>\n",
       "      <td>0</td>\n",
       "      <td>0</td>\n",
       "      <td>0</td>\n",
       "      <td>0</td>\n",
       "    </tr>\n",
       "    <tr>\n",
       "      <th>3798</th>\n",
       "      <td>0</td>\n",
       "      <td>1.0</td>\n",
       "      <td>0</td>\n",
       "      <td>0</td>\n",
       "      <td>0</td>\n",
       "      <td>0</td>\n",
       "      <td>0</td>\n",
       "      <td>2</td>\n",
       "      <td>1</td>\n",
       "      <td>7.5</td>\n",
       "      <td>56.25</td>\n",
       "      <td>1</td>\n",
       "      <td>2</td>\n",
       "      <td>0</td>\n",
       "      <td>0</td>\n",
       "      <td>0</td>\n",
       "      <td>0</td>\n",
       "    </tr>\n",
       "  </tbody>\n",
       "</table>\n",
       "</div>"
      ],
      "text/plain": [
       "      anyuseofforce_coded  const  sblack  shisp  sother  smale  sempl  \\\n",
       "3794                    0    1.0       0      0       0      0      1   \n",
       "3795                    0    1.0       0      0       0      0      0   \n",
       "3796                    0    1.0       0      0       0      0      0   \n",
       "3797                    0    1.0       0      0       0      0      0   \n",
       "3798                    0    1.0       0      0       0      0      0   \n",
       "\n",
       "      sincome  spop  sage  sagesq  daytime  inctype_lin  omajblack  omajhisp  \\\n",
       "3794        3     1   7.2   51.84        0            1          0         0   \n",
       "3795        2     1   7.1   50.41        1            2          0         0   \n",
       "3796        1     1   7.6   57.76        1            2          0         0   \n",
       "3797        3     4   7.9   62.41        1            2          0         0   \n",
       "3798        2     1   7.5   56.25        1            2          0         0   \n",
       "\n",
       "      omajother  sbehavior  \n",
       "3794          0          1  \n",
       "3795          0          0  \n",
       "3796          0          0  \n",
       "3797          0          0  \n",
       "3798          0          0  "
      ]
     },
     "execution_count": 284,
     "metadata": {},
     "output_type": "execute_result"
    }
   ],
   "source": [
    "# Declare labels    \n",
    "y_lab = 'anyuseofforce_coded'\n",
    "#x_lab = ['const', 'sblack', 'shisp', 'sother']\n",
    "#x_lab = ['const', 'sblack', 'shisp', 'sother', 'smale', 'sempl', 'sincome', 'spop', 'sage', 'sagesq']\n",
    "#x_lab = ['const', 'sblack', 'shisp', 'sother', 'smale', 'sempl', 'sincome', 'spop', 'sage', 'sagesq', 'daytime', 'inctype_lin', 'omajblack', 'omajhisp', 'omajother']\n",
    "x_lab = ['const', 'sblack', 'shisp', 'sother', 'smale', 'sempl', 'sincome', 'spop', 'sage', 'sagesq', 'daytime', 'inctype_lin', 'omajblack', 'omajhisp', 'omajother', 'sbehavior']\n",
    "\n",
    "dat['sage'] = dat['sage'] / 10\n",
    "dat['sagesq'] = dat.sage * dat.sage \n",
    "\n",
    "# create extra variables \n",
    "N = dat.shape[0]\n",
    "dat['const'] = np.ones((N,))\n",
    "\n",
    "# Rebuild the dataset\n",
    "dat = dat[[y_lab] + x_lab].copy()\n",
    "\n",
    "# Check for missing data\n",
    "assert dat.notnull().all(axis=1).all(), 'Missing values detected. Clean your data!'\n",
    "\n",
    "dat.tail(5)"
   ]
  },
  {
   "cell_type": "code",
   "execution_count": 285,
   "metadata": {},
   "outputs": [
    {
     "name": "stdout",
     "output_type": "stream",
     "text": [
      "16\n",
      "(3799, 16)\n"
     ]
    }
   ],
   "source": [
    "# Extract y and X\n",
    "y = dat[y_lab].values\n",
    "x = dat[x_lab].values\n",
    "K = x.shape[1]\n",
    "\n",
    "print(K)\n",
    "print(np.shape(x))"
   ]
  },
  {
   "cell_type": "code",
   "execution_count": 286,
   "metadata": {},
   "outputs": [
    {
     "name": "stdout",
     "output_type": "stream",
     "text": [
      "Number of 1s in 'anyuseofforce_coded': 19\n"
     ]
    }
   ],
   "source": [
    "count_violent_1 = (dat['anyuseofforce_coded'] == 1).sum()\n",
    "print(f\"Number of 1s in 'anyuseofforce_coded': {count_violent_1}\")"
   ]
  },
  {
   "cell_type": "markdown",
   "metadata": {},
   "source": [
    "## Estimate using Probit"
   ]
  },
  {
   "cell_type": "code",
   "execution_count": 287,
   "metadata": {},
   "outputs": [
    {
     "name": "stdout",
     "output_type": "stream",
     "text": [
      "Optimization terminated successfully.\n",
      "         Current function value: 0.022253\n",
      "         Iterations: 157\n",
      "         Function evaluations: 2941\n",
      "         Gradient evaluations: 173\n"
     ]
    }
   ],
   "source": [
    "# Initialize starting values\n",
    "theta0 = probit.starting_values(y, x)\n",
    "\n",
    "# Estimate model with probit\n",
    "probit_results = est.estimate(probit.q, theta0, y, x, cov_type='Sandwich')"
   ]
  },
  {
   "cell_type": "code",
   "execution_count": 288,
   "metadata": {},
   "outputs": [
    {
     "name": "stdout",
     "output_type": "stream",
     "text": [
      "Optimizer succeded after 157 iter. (2941 func. evals.). Final criterion:  0.02225.\n",
      "Probit, y = anyuseofforce_coded\n"
     ]
    },
    {
     "data": {
      "text/html": [
       "<div>\n",
       "<style scoped>\n",
       "    .dataframe tbody tr th:only-of-type {\n",
       "        vertical-align: middle;\n",
       "    }\n",
       "\n",
       "    .dataframe tbody tr th {\n",
       "        vertical-align: top;\n",
       "    }\n",
       "\n",
       "    .dataframe thead th {\n",
       "        text-align: right;\n",
       "    }\n",
       "</style>\n",
       "<table border=\"1\" class=\"dataframe\">\n",
       "  <thead>\n",
       "    <tr style=\"text-align: right;\">\n",
       "      <th></th>\n",
       "      <th>theta</th>\n",
       "      <th>se</th>\n",
       "      <th>t</th>\n",
       "    </tr>\n",
       "  </thead>\n",
       "  <tbody>\n",
       "    <tr>\n",
       "      <th>const</th>\n",
       "      <td>-2.6163</td>\n",
       "      <td>0.6954</td>\n",
       "      <td>-3.7625</td>\n",
       "    </tr>\n",
       "    <tr>\n",
       "      <th>sblack</th>\n",
       "      <td>0.2036</td>\n",
       "      <td>0.2991</td>\n",
       "      <td>0.6808</td>\n",
       "    </tr>\n",
       "    <tr>\n",
       "      <th>shisp</th>\n",
       "      <td>0.4164</td>\n",
       "      <td>0.2382</td>\n",
       "      <td>1.7481</td>\n",
       "    </tr>\n",
       "    <tr>\n",
       "      <th>sother</th>\n",
       "      <td>0.1043</td>\n",
       "      <td>0.4412</td>\n",
       "      <td>0.2364</td>\n",
       "    </tr>\n",
       "    <tr>\n",
       "      <th>smale</th>\n",
       "      <td>0.5597</td>\n",
       "      <td>0.2096</td>\n",
       "      <td>2.6700</td>\n",
       "    </tr>\n",
       "    <tr>\n",
       "      <th>sempl</th>\n",
       "      <td>-0.4997</td>\n",
       "      <td>0.2205</td>\n",
       "      <td>-2.2667</td>\n",
       "    </tr>\n",
       "    <tr>\n",
       "      <th>sincome</th>\n",
       "      <td>0.1021</td>\n",
       "      <td>0.1244</td>\n",
       "      <td>0.8204</td>\n",
       "    </tr>\n",
       "    <tr>\n",
       "      <th>spop</th>\n",
       "      <td>0.1988</td>\n",
       "      <td>0.0746</td>\n",
       "      <td>2.6642</td>\n",
       "    </tr>\n",
       "    <tr>\n",
       "      <th>sage</th>\n",
       "      <td>0.4859</td>\n",
       "      <td>0.3718</td>\n",
       "      <td>1.3067</td>\n",
       "    </tr>\n",
       "    <tr>\n",
       "      <th>sagesq</th>\n",
       "      <td>-0.0790</td>\n",
       "      <td>0.0498</td>\n",
       "      <td>-1.5852</td>\n",
       "    </tr>\n",
       "    <tr>\n",
       "      <th>daytime</th>\n",
       "      <td>-0.1426</td>\n",
       "      <td>0.1979</td>\n",
       "      <td>-0.7203</td>\n",
       "    </tr>\n",
       "    <tr>\n",
       "      <th>inctype_lin</th>\n",
       "      <td>-0.7404</td>\n",
       "      <td>0.2587</td>\n",
       "      <td>-2.8621</td>\n",
       "    </tr>\n",
       "    <tr>\n",
       "      <th>omajblack</th>\n",
       "      <td>-2.4198</td>\n",
       "      <td>0.1777</td>\n",
       "      <td>-13.6187</td>\n",
       "    </tr>\n",
       "    <tr>\n",
       "      <th>omajhisp</th>\n",
       "      <td>-0.3383</td>\n",
       "      <td>0.4021</td>\n",
       "      <td>-0.8413</td>\n",
       "    </tr>\n",
       "    <tr>\n",
       "      <th>omajother</th>\n",
       "      <td>-2.1336</td>\n",
       "      <td>0.3791</td>\n",
       "      <td>-5.6276</td>\n",
       "    </tr>\n",
       "    <tr>\n",
       "      <th>sbehavior</th>\n",
       "      <td>1.0662</td>\n",
       "      <td>0.1919</td>\n",
       "      <td>5.5563</td>\n",
       "    </tr>\n",
       "  </tbody>\n",
       "</table>\n",
       "</div>"
      ],
      "text/plain": [
       "              theta      se        t\n",
       "const       -2.6163  0.6954  -3.7625\n",
       "sblack       0.2036  0.2991   0.6808\n",
       "shisp        0.4164  0.2382   1.7481\n",
       "sother       0.1043  0.4412   0.2364\n",
       "smale        0.5597  0.2096   2.6700\n",
       "sempl       -0.4997  0.2205  -2.2667\n",
       "sincome      0.1021  0.1244   0.8204\n",
       "spop         0.1988  0.0746   2.6642\n",
       "sage         0.4859  0.3718   1.3067\n",
       "sagesq      -0.0790  0.0498  -1.5852\n",
       "daytime     -0.1426  0.1979  -0.7203\n",
       "inctype_lin -0.7404  0.2587  -2.8621\n",
       "omajblack   -2.4198  0.1777 -13.6187\n",
       "omajhisp    -0.3383  0.4021  -0.8413\n",
       "omajother   -2.1336  0.3791  -5.6276\n",
       "sbehavior    1.0662  0.1919   5.5563"
      ]
     },
     "execution_count": 288,
     "metadata": {},
     "output_type": "execute_result"
    }
   ],
   "source": [
    "probit_tab = est.print_table(x_lab, probit_results, title=f'Probit, y = {y_lab}')\n",
    "probit_tab"
   ]
  },
  {
   "cell_type": "markdown",
   "metadata": {},
   "source": [
    "## Estimate using Logit"
   ]
  },
  {
   "cell_type": "code",
   "execution_count": 289,
   "metadata": {},
   "outputs": [
    {
     "name": "stdout",
     "output_type": "stream",
     "text": [
      "Optimization terminated successfully.\n",
      "         Current function value: 0.022389\n",
      "         Iterations: 203\n",
      "         Function evaluations: 3604\n",
      "         Gradient evaluations: 212\n"
     ]
    }
   ],
   "source": [
    "# Initialize starting values\n",
    "theta0 = logit.starting_values(y, x)\n",
    "\n",
    "# Estimate model with logit\n",
    "logit_results = est.estimate(logit.q, theta0, y, x, cov_type='Sandwich')"
   ]
  },
  {
   "cell_type": "code",
   "execution_count": 290,
   "metadata": {},
   "outputs": [
    {
     "name": "stdout",
     "output_type": "stream",
     "text": [
      "Optimizer succeded after 203 iter. (3604 func. evals.). Final criterion:  0.02239.\n",
      "Logit, y = anyuseofforce_coded\n"
     ]
    },
    {
     "data": {
      "text/html": [
       "<div>\n",
       "<style scoped>\n",
       "    .dataframe tbody tr th:only-of-type {\n",
       "        vertical-align: middle;\n",
       "    }\n",
       "\n",
       "    .dataframe tbody tr th {\n",
       "        vertical-align: top;\n",
       "    }\n",
       "\n",
       "    .dataframe thead th {\n",
       "        text-align: right;\n",
       "    }\n",
       "</style>\n",
       "<table border=\"1\" class=\"dataframe\">\n",
       "  <thead>\n",
       "    <tr style=\"text-align: right;\">\n",
       "      <th></th>\n",
       "      <th>theta</th>\n",
       "      <th>se</th>\n",
       "      <th>t</th>\n",
       "    </tr>\n",
       "  </thead>\n",
       "  <tbody>\n",
       "    <tr>\n",
       "      <th>const</th>\n",
       "      <td>-5.6106</td>\n",
       "      <td>1.9385</td>\n",
       "      <td>-2.8943</td>\n",
       "    </tr>\n",
       "    <tr>\n",
       "      <th>sblack</th>\n",
       "      <td>0.4361</td>\n",
       "      <td>0.8091</td>\n",
       "      <td>0.5390</td>\n",
       "    </tr>\n",
       "    <tr>\n",
       "      <th>shisp</th>\n",
       "      <td>0.9405</td>\n",
       "      <td>0.6135</td>\n",
       "      <td>1.5329</td>\n",
       "    </tr>\n",
       "    <tr>\n",
       "      <th>sother</th>\n",
       "      <td>-0.0946</td>\n",
       "      <td>1.2843</td>\n",
       "      <td>-0.0737</td>\n",
       "    </tr>\n",
       "    <tr>\n",
       "      <th>smale</th>\n",
       "      <td>1.1543</td>\n",
       "      <td>0.5733</td>\n",
       "      <td>2.0135</td>\n",
       "    </tr>\n",
       "    <tr>\n",
       "      <th>sempl</th>\n",
       "      <td>-1.1609</td>\n",
       "      <td>0.6151</td>\n",
       "      <td>-1.8873</td>\n",
       "    </tr>\n",
       "    <tr>\n",
       "      <th>sincome</th>\n",
       "      <td>0.2021</td>\n",
       "      <td>0.3419</td>\n",
       "      <td>0.5913</td>\n",
       "    </tr>\n",
       "    <tr>\n",
       "      <th>spop</th>\n",
       "      <td>0.4812</td>\n",
       "      <td>0.1898</td>\n",
       "      <td>2.5349</td>\n",
       "    </tr>\n",
       "    <tr>\n",
       "      <th>sage</th>\n",
       "      <td>1.3029</td>\n",
       "      <td>1.1780</td>\n",
       "      <td>1.1060</td>\n",
       "    </tr>\n",
       "    <tr>\n",
       "      <th>sagesq</th>\n",
       "      <td>-0.2207</td>\n",
       "      <td>0.1656</td>\n",
       "      <td>-1.3332</td>\n",
       "    </tr>\n",
       "    <tr>\n",
       "      <th>daytime</th>\n",
       "      <td>-0.3865</td>\n",
       "      <td>0.5329</td>\n",
       "      <td>-0.7254</td>\n",
       "    </tr>\n",
       "    <tr>\n",
       "      <th>inctype_lin</th>\n",
       "      <td>-1.5713</td>\n",
       "      <td>0.6837</td>\n",
       "      <td>-2.2981</td>\n",
       "    </tr>\n",
       "    <tr>\n",
       "      <th>omajblack</th>\n",
       "      <td>-8.2127</td>\n",
       "      <td>1.0663</td>\n",
       "      <td>-7.7019</td>\n",
       "    </tr>\n",
       "    <tr>\n",
       "      <th>omajhisp</th>\n",
       "      <td>-0.5374</td>\n",
       "      <td>0.8016</td>\n",
       "      <td>-0.6704</td>\n",
       "    </tr>\n",
       "    <tr>\n",
       "      <th>omajother</th>\n",
       "      <td>-6.3020</td>\n",
       "      <td>0.6129</td>\n",
       "      <td>-10.2824</td>\n",
       "    </tr>\n",
       "    <tr>\n",
       "      <th>sbehavior</th>\n",
       "      <td>2.5359</td>\n",
       "      <td>0.5127</td>\n",
       "      <td>4.9457</td>\n",
       "    </tr>\n",
       "  </tbody>\n",
       "</table>\n",
       "</div>"
      ],
      "text/plain": [
       "              theta      se        t\n",
       "const       -5.6106  1.9385  -2.8943\n",
       "sblack       0.4361  0.8091   0.5390\n",
       "shisp        0.9405  0.6135   1.5329\n",
       "sother      -0.0946  1.2843  -0.0737\n",
       "smale        1.1543  0.5733   2.0135\n",
       "sempl       -1.1609  0.6151  -1.8873\n",
       "sincome      0.2021  0.3419   0.5913\n",
       "spop         0.4812  0.1898   2.5349\n",
       "sage         1.3029  1.1780   1.1060\n",
       "sagesq      -0.2207  0.1656  -1.3332\n",
       "daytime     -0.3865  0.5329  -0.7254\n",
       "inctype_lin -1.5713  0.6837  -2.2981\n",
       "omajblack   -8.2127  1.0663  -7.7019\n",
       "omajhisp    -0.5374  0.8016  -0.6704\n",
       "omajother   -6.3020  0.6129 -10.2824\n",
       "sbehavior    2.5359  0.5127   4.9457"
      ]
     },
     "execution_count": 290,
     "metadata": {},
     "output_type": "execute_result"
    }
   ],
   "source": [
    "logit_tab = est.print_table(x_lab, logit_results, title=f'Logit, y = {y_lab}')\n",
    "logit_tab"
   ]
  },
  {
   "cell_type": "markdown",
   "metadata": {},
   "source": [
    "## Average partial effects"
   ]
  },
  {
   "cell_type": "markdown",
   "metadata": {},
   "source": [
    "### Probit"
   ]
  },
  {
   "cell_type": "code",
   "execution_count": 291,
   "metadata": {},
   "outputs": [
    {
     "data": {
      "text/html": [
       "<div>\n",
       "<style scoped>\n",
       "    .dataframe tbody tr th:only-of-type {\n",
       "        vertical-align: middle;\n",
       "    }\n",
       "\n",
       "    .dataframe tbody tr th {\n",
       "        vertical-align: top;\n",
       "    }\n",
       "\n",
       "    .dataframe thead th {\n",
       "        text-align: right;\n",
       "    }\n",
       "</style>\n",
       "<table border=\"1\" class=\"dataframe\">\n",
       "  <thead>\n",
       "    <tr style=\"text-align: right;\">\n",
       "      <th></th>\n",
       "      <th>Estimate</th>\n",
       "    </tr>\n",
       "  </thead>\n",
       "  <tbody>\n",
       "    <tr>\n",
       "      <th>sblack</th>\n",
       "      <td>0.002</td>\n",
       "    </tr>\n",
       "    <tr>\n",
       "      <th>shispanic</th>\n",
       "      <td>0.006</td>\n",
       "    </tr>\n",
       "    <tr>\n",
       "      <th>sother</th>\n",
       "      <td>0.001</td>\n",
       "    </tr>\n",
       "  </tbody>\n",
       "</table>\n",
       "</div>"
      ],
      "text/plain": [
       "           Estimate\n",
       "sblack        0.002\n",
       "shispanic     0.006\n",
       "sother        0.001"
      ]
     },
     "execution_count": 291,
     "metadata": {},
     "output_type": "execute_result"
    }
   ],
   "source": [
    "# Estimating the average partial effects using the probit\n",
    "indices = [x_lab.index('sblack'), x_lab.index('shisp'), x_lab.index('sother')]  \n",
    "labels = ['sblack', 'shispanic', 'sother'] \n",
    "probit.properties(x, probit_results['theta'],print_out = True,se=True,indices=indices, labels = labels)"
   ]
  },
  {
   "cell_type": "markdown",
   "metadata": {},
   "source": [
    "### Logit"
   ]
  },
  {
   "cell_type": "code",
   "execution_count": 292,
   "metadata": {},
   "outputs": [
    {
     "data": {
      "text/html": [
       "<div>\n",
       "<style scoped>\n",
       "    .dataframe tbody tr th:only-of-type {\n",
       "        vertical-align: middle;\n",
       "    }\n",
       "\n",
       "    .dataframe tbody tr th {\n",
       "        vertical-align: top;\n",
       "    }\n",
       "\n",
       "    .dataframe thead th {\n",
       "        text-align: right;\n",
       "    }\n",
       "</style>\n",
       "<table border=\"1\" class=\"dataframe\">\n",
       "  <thead>\n",
       "    <tr style=\"text-align: right;\">\n",
       "      <th></th>\n",
       "      <th>Estimate</th>\n",
       "    </tr>\n",
       "  </thead>\n",
       "  <tbody>\n",
       "    <tr>\n",
       "      <th>sblack</th>\n",
       "      <td>0.002</td>\n",
       "    </tr>\n",
       "    <tr>\n",
       "      <th>shispanic</th>\n",
       "      <td>0.005</td>\n",
       "    </tr>\n",
       "    <tr>\n",
       "      <th>sother</th>\n",
       "      <td>-0.000</td>\n",
       "    </tr>\n",
       "  </tbody>\n",
       "</table>\n",
       "</div>"
      ],
      "text/plain": [
       "           Estimate\n",
       "sblack        0.002\n",
       "shispanic     0.005\n",
       "sother       -0.000"
      ]
     },
     "execution_count": 292,
     "metadata": {},
     "output_type": "execute_result"
    }
   ],
   "source": [
    "# Estimating the average partial effects using the logit\n",
    "indices = [x_lab.index('sblack'), x_lab.index('shisp'), x_lab.index('sother')]  \n",
    "labels = ['sblack', 'shispanic', 'sother']  \n",
    "logit.properties(x, logit_results['theta'],print_out = True,se=True,indices=indices, labels = labels)"
   ]
  },
  {
   "cell_type": "markdown",
   "metadata": {},
   "source": [
    "## Partial Effects"
   ]
  },
  {
   "cell_type": "markdown",
   "metadata": {},
   "source": [
    "#### Defining different fixed vectors"
   ]
  },
  {
   "cell_type": "code",
   "execution_count": 293,
   "metadata": {},
   "outputs": [
    {
     "name": "stdout",
     "output_type": "stream",
     "text": [
      "4.10\n",
      "19.42\n",
      "2.16\n",
      "1.36\n"
     ]
    }
   ],
   "source": [
    "#means of the regressors\n",
    "print(f\"{np.mean(dat['sage']):.2f}\")\n",
    "print(f\"{np.mean(dat['sagesq']):.2f}\")\n",
    "print(f\"{np.mean(dat['sincome']):.2f}\")\n",
    "print(f\"{np.mean(dat['spop']):.2f}\")"
   ]
  },
  {
   "cell_type": "code",
   "execution_count": 294,
   "metadata": {},
   "outputs": [
    {
     "data": {
      "text/html": [
       "<div>\n",
       "<style scoped>\n",
       "    .dataframe tbody tr th:only-of-type {\n",
       "        vertical-align: middle;\n",
       "    }\n",
       "\n",
       "    .dataframe tbody tr th {\n",
       "        vertical-align: top;\n",
       "    }\n",
       "\n",
       "    .dataframe thead th {\n",
       "        text-align: right;\n",
       "    }\n",
       "</style>\n",
       "<table border=\"1\" class=\"dataframe\">\n",
       "  <thead>\n",
       "    <tr style=\"text-align: right;\">\n",
       "      <th></th>\n",
       "      <th>const</th>\n",
       "      <th>sblack</th>\n",
       "      <th>shisp</th>\n",
       "      <th>sother</th>\n",
       "      <th>smale</th>\n",
       "      <th>sage</th>\n",
       "      <th>sempl</th>\n",
       "      <th>sincome</th>\n",
       "      <th>spop</th>\n",
       "      <th>daytime</th>\n",
       "      <th>inctype_lin</th>\n",
       "      <th>omajblack</th>\n",
       "      <th>omajhisp</th>\n",
       "      <th>omajother</th>\n",
       "      <th>sbehavior</th>\n",
       "      <th>sagesq</th>\n",
       "    </tr>\n",
       "  </thead>\n",
       "  <tbody>\n",
       "    <tr>\n",
       "      <th>x_me</th>\n",
       "      <td>1.0</td>\n",
       "      <td>0.0</td>\n",
       "      <td>0.0</td>\n",
       "      <td>0.0</td>\n",
       "      <td>1.0</td>\n",
       "      <td>4.1</td>\n",
       "      <td>0.0</td>\n",
       "      <td>2.16</td>\n",
       "      <td>1.36</td>\n",
       "      <td>0.0</td>\n",
       "      <td>1.0</td>\n",
       "      <td>0.0</td>\n",
       "      <td>0.0</td>\n",
       "      <td>0.0</td>\n",
       "      <td>0.0</td>\n",
       "      <td>19.42</td>\n",
       "    </tr>\n",
       "  </tbody>\n",
       "</table>\n",
       "</div>"
      ],
      "text/plain": [
       "      const  sblack  shisp  sother  smale  sage  sempl  sincome  spop  \\\n",
       "x_me    1.0     0.0    0.0     0.0    1.0   4.1    0.0     2.16  1.36   \n",
       "\n",
       "      daytime  inctype_lin  omajblack  omajhisp  omajother  sbehavior  sagesq  \n",
       "x_me      0.0          1.0        0.0       0.0        0.0        0.0   19.42  "
      ]
     },
     "execution_count": 294,
     "metadata": {},
     "output_type": "execute_result"
    }
   ],
   "source": [
    "# Original vector\n",
    "x_lab = ['const', 'sblack', 'shisp', 'sother', 'smale', 'sage', 'sempl', 'sincome', 'spop', 'daytime', 'inctype_lin', 'omajblack', 'omajhisp', 'omajother', 'sbehavior','sagesq']\n",
    "\n",
    "x_me = np.array([1, 0, 0, 0, 1, 4.10, 0, 2.16, 1.36,0,1,0,0,0, 0,19.42]).reshape(1, -1)\n",
    "pd.DataFrame(x_me, columns=x_lab, index=['x_me'])\n"
   ]
  },
  {
   "cell_type": "code",
   "execution_count": 295,
   "metadata": {},
   "outputs": [],
   "source": [
    "### BEHAVIOR = 1 ###\n",
    "# Let us make a vector of the values we want to investigate\n",
    "#x_me= np.array([1, 0, 0, 0, 1, 4.1, 0, 2.16, 1.36,0,1,0,0,0,1,19.42]).reshape(1, -1)\n",
    "#pd.DataFrame(x_me, columns=x_lab, index=['x_behavior'])\n"
   ]
  },
  {
   "cell_type": "code",
   "execution_count": 296,
   "metadata": {},
   "outputs": [],
   "source": [
    "###DAYTIME = 1###\n",
    "# Let us make a vector of the values we want to investigate\n",
    "#x_me = np.array([1, 0, 0, 0, 1, 4.1, 0, 2.16, 1.36,1,1,0,0,0,0,19.42]).reshape(1, -1)\n",
    "#pd.DataFrame(x_me, columns=x_lab, index=['x_daytime'])\n"
   ]
  },
  {
   "cell_type": "markdown",
   "metadata": {},
   "source": [
    "#### Swiching race from white to black, hispanic and other"
   ]
  },
  {
   "cell_type": "code",
   "execution_count": 297,
   "metadata": {},
   "outputs": [
    {
     "data": {
      "text/html": [
       "<div>\n",
       "<style scoped>\n",
       "    .dataframe tbody tr th:only-of-type {\n",
       "        vertical-align: middle;\n",
       "    }\n",
       "\n",
       "    .dataframe tbody tr th {\n",
       "        vertical-align: top;\n",
       "    }\n",
       "\n",
       "    .dataframe thead th {\n",
       "        text-align: right;\n",
       "    }\n",
       "</style>\n",
       "<table border=\"1\" class=\"dataframe\">\n",
       "  <thead>\n",
       "    <tr style=\"text-align: right;\">\n",
       "      <th></th>\n",
       "      <th>const</th>\n",
       "      <th>sblack</th>\n",
       "      <th>shisp</th>\n",
       "      <th>sother</th>\n",
       "      <th>smale</th>\n",
       "      <th>sage</th>\n",
       "      <th>sempl</th>\n",
       "      <th>sincome</th>\n",
       "      <th>spop</th>\n",
       "      <th>daytime</th>\n",
       "      <th>inctype_lin</th>\n",
       "      <th>omajblack</th>\n",
       "      <th>omajhisp</th>\n",
       "      <th>omajother</th>\n",
       "      <th>sbehavior</th>\n",
       "      <th>sagesq</th>\n",
       "    </tr>\n",
       "  </thead>\n",
       "  <tbody>\n",
       "    <tr>\n",
       "      <th>x_me2</th>\n",
       "      <td>1.0</td>\n",
       "      <td>1.0</td>\n",
       "      <td>0.0</td>\n",
       "      <td>0.0</td>\n",
       "      <td>1.0</td>\n",
       "      <td>4.1</td>\n",
       "      <td>0.0</td>\n",
       "      <td>2.16</td>\n",
       "      <td>1.36</td>\n",
       "      <td>0.0</td>\n",
       "      <td>1.0</td>\n",
       "      <td>0.0</td>\n",
       "      <td>0.0</td>\n",
       "      <td>0.0</td>\n",
       "      <td>0.0</td>\n",
       "      <td>19.42</td>\n",
       "    </tr>\n",
       "  </tbody>\n",
       "</table>\n",
       "</div>"
      ],
      "text/plain": [
       "       const  sblack  shisp  sother  smale  sage  sempl  sincome  spop  \\\n",
       "x_me2    1.0     1.0    0.0     0.0    1.0   4.1    0.0     2.16  1.36   \n",
       "\n",
       "       daytime  inctype_lin  omajblack  omajhisp  omajother  sbehavior  sagesq  \n",
       "x_me2      0.0          1.0        0.0       0.0        0.0        0.0   19.42  "
      ]
     },
     "execution_count": 297,
     "metadata": {},
     "output_type": "execute_result"
    }
   ],
   "source": [
    "#k=1: black \n",
    "#k=2: hispanic\n",
    "#k=3: other\n",
    "\n",
    "k = 1\n",
    "x_me2 = x_me.copy()\n",
    "x_me2[:, k] = 1   \n",
    "pd.DataFrame(x_me2, columns=x_lab, index=['x_me2'])"
   ]
  },
  {
   "cell_type": "markdown",
   "metadata": {},
   "source": [
    "### Probit"
   ]
  },
  {
   "cell_type": "code",
   "execution_count": 298,
   "metadata": {},
   "outputs": [],
   "source": [
    "b_pr = probit_tab.theta.values\n",
    "me_race_pr = probit.G(x_me2@b_pr) - probit.G(x_me@b_pr) "
   ]
  },
  {
   "cell_type": "code",
   "execution_count": 299,
   "metadata": {},
   "outputs": [],
   "source": [
    "gx0 = norm.pdf(x_me@b_pr)\n",
    "gx2 = norm.pdf(x_me2@b_pr)\n",
    "\n",
    "grad_d_pr = gx2*x_me2 - gx0*x_me"
   ]
  },
  {
   "cell_type": "code",
   "execution_count": 300,
   "metadata": {},
   "outputs": [],
   "source": [
    "def get_se(grad, cov):\n",
    "    cov_me = grad@cov@grad.T\n",
    "    return np.sqrt(np.diag(cov_me))\n",
    "\n",
    "se_d_pr = get_se(grad_d_pr, probit_results['cov'])"
   ]
  },
  {
   "cell_type": "code",
   "execution_count": 301,
   "metadata": {},
   "outputs": [
    {
     "data": {
      "text/html": [
       "<div>\n",
       "<style scoped>\n",
       "    .dataframe tbody tr th:only-of-type {\n",
       "        vertical-align: middle;\n",
       "    }\n",
       "\n",
       "    .dataframe tbody tr th {\n",
       "        vertical-align: top;\n",
       "    }\n",
       "\n",
       "    .dataframe thead th {\n",
       "        text-align: right;\n",
       "    }\n",
       "</style>\n",
       "<table border=\"1\" class=\"dataframe\">\n",
       "  <thead>\n",
       "    <tr style=\"text-align: right;\">\n",
       "      <th></th>\n",
       "      <th>Marginal Effect</th>\n",
       "      <th>s.e.</th>\n",
       "      <th>t</th>\n",
       "    </tr>\n",
       "    <tr>\n",
       "      <th>Var</th>\n",
       "      <th></th>\n",
       "      <th></th>\n",
       "      <th></th>\n",
       "    </tr>\n",
       "  </thead>\n",
       "  <tbody>\n",
       "    <tr>\n",
       "      <th>0</th>\n",
       "      <td>0.0</td>\n",
       "      <td>0.0</td>\n",
       "      <td>0.0</td>\n",
       "    </tr>\n",
       "  </tbody>\n",
       "</table>\n",
       "</div>"
      ],
      "text/plain": [
       "     Marginal Effect  s.e.    t\n",
       "Var                            \n",
       "0                0.0   0.0  0.0"
      ]
     },
     "execution_count": 301,
     "metadata": {},
     "output_type": "execute_result"
    }
   ],
   "source": [
    "me_dict = {'Marginal Effect': me_race_pr[0],\n",
    "           's.e.':            se_d_pr}\n",
    "tab = pd.DataFrame(me_dict)\n",
    "tab['t'] = tab['Marginal Effect'] / tab['s.e.']\n",
    "tab.index.name = 'Var'\n",
    "tab.round(6)"
   ]
  },
  {
   "cell_type": "markdown",
   "metadata": {},
   "source": [
    "### Logit"
   ]
  },
  {
   "cell_type": "code",
   "execution_count": 302,
   "metadata": {},
   "outputs": [],
   "source": [
    "b_lg = logit_tab.theta.values\n",
    "me_race_lg = logit.G(x_me2@b_lg) - logit.G(x_me@b_lg)"
   ]
  },
  {
   "cell_type": "code",
   "execution_count": 303,
   "metadata": {},
   "outputs": [],
   "source": [
    "# Compute the logistic function exponential terms for x_me2 and x_me\n",
    "exp_x0_b = np.exp(-(x_me@b_lg))\n",
    "exp_x2_b = np.exp(-(x_me2@b_lg))\n",
    "\n",
    "grad_d_lg = (x_me2 * exp_x2_b)/ (1 + exp_x2_b)**2 - (x_me * exp_x0_b)/ (1 + exp_x0_b)**2\n",
    "\n",
    "se_d_lg = get_se(grad_d_lg, logit_results['cov'])"
   ]
  },
  {
   "cell_type": "code",
   "execution_count": 304,
   "metadata": {},
   "outputs": [
    {
     "data": {
      "text/html": [
       "<div>\n",
       "<style scoped>\n",
       "    .dataframe tbody tr th:only-of-type {\n",
       "        vertical-align: middle;\n",
       "    }\n",
       "\n",
       "    .dataframe tbody tr th {\n",
       "        vertical-align: top;\n",
       "    }\n",
       "\n",
       "    .dataframe thead th {\n",
       "        text-align: right;\n",
       "    }\n",
       "</style>\n",
       "<table border=\"1\" class=\"dataframe\">\n",
       "  <thead>\n",
       "    <tr style=\"text-align: right;\">\n",
       "      <th></th>\n",
       "      <th>Marginal Effect</th>\n",
       "      <th>s.e.</th>\n",
       "      <th>t</th>\n",
       "    </tr>\n",
       "    <tr>\n",
       "      <th>Var</th>\n",
       "      <th></th>\n",
       "      <th></th>\n",
       "      <th></th>\n",
       "    </tr>\n",
       "  </thead>\n",
       "  <tbody>\n",
       "    <tr>\n",
       "      <th>0</th>\n",
       "      <td>0.0</td>\n",
       "      <td>0.0</td>\n",
       "      <td>0.0</td>\n",
       "    </tr>\n",
       "  </tbody>\n",
       "</table>\n",
       "</div>"
      ],
      "text/plain": [
       "     Marginal Effect  s.e.    t\n",
       "Var                            \n",
       "0                0.0   0.0  0.0"
      ]
     },
     "execution_count": 304,
     "metadata": {},
     "output_type": "execute_result"
    }
   ],
   "source": [
    "me_dict = {'Marginal Effect': me_race_lg[0],\n",
    "           's.e.':            se_d_lg}\n",
    "tab = pd.DataFrame(me_dict)\n",
    "tab['t'] = tab['Marginal Effect'] / tab['s.e.']\n",
    "tab.index.name = 'Var'\n",
    "tab.round(6)"
   ]
  }
 ],
 "metadata": {
  "kernelspec": {
   "display_name": "base",
   "language": "python",
   "name": "python3"
  },
  "language_info": {
   "codemirror_mode": {
    "name": "ipython",
    "version": 3
   },
   "file_extension": ".py",
   "mimetype": "text/x-python",
   "name": "python",
   "nbconvert_exporter": "python",
   "pygments_lexer": "ipython3",
   "version": "3.11.7"
  }
 },
 "nbformat": 4,
 "nbformat_minor": 2
}
