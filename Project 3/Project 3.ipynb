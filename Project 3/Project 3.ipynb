{
 "cells": [
  {
   "cell_type": "markdown",
   "metadata": {},
   "source": [
    "# Project III: Classical Non-linear Models and Police use of force\n",
    "This notebook uses the Police Public Contact Survey (PPCS) dataset: `ppcs_cc.csv`."
   ]
  },
  {
   "cell_type": "code",
   "execution_count": 26,
   "metadata": {},
   "outputs": [
    {
     "name": "stdout",
     "output_type": "stream",
     "text": [
      "The autoreload extension is already loaded. To reload it, use:\n",
      "  %reload_ext autoreload\n"
     ]
    }
   ],
   "source": [
    "%load_ext autoreload\n",
    "%autoreload 2\n",
    "\n",
    "import pandas as pd \n",
    "import numpy as np\n",
    "import seaborn as sns\n",
    "import matplotlib.pyplot as plt \n",
    "import probit as probit\n",
    "import logit as logit\n",
    "import estimation as est\n"
   ]
  },
  {
   "cell_type": "markdown",
   "metadata": {},
   "source": [
    "### Load the data "
   ]
  },
  {
   "cell_type": "code",
   "execution_count": 27,
   "metadata": {},
   "outputs": [
    {
     "name": "stdout",
     "output_type": "stream",
     "text": [
      "\n",
      "Distribution of 'anyuseofforce_coded':\n",
      "anyuseofforce_coded\n",
      "0    0.994999\n",
      "1    0.005001\n",
      "Name: proportion, dtype: float64\n",
      "\n",
      "Value Counts for sblack:\n",
      "sblack\n",
      "0    3379\n",
      "1     420\n",
      "Name: count, dtype: int64\n",
      "\n",
      "Value Counts for shisp:\n",
      "shisp\n",
      "0    3413\n",
      "1     386\n",
      "Name: count, dtype: int64\n",
      "\n",
      "Value Counts for swhite:\n",
      "swhite\n",
      "1    2808\n",
      "0     991\n",
      "Name: count, dtype: int64\n",
      "\n",
      "Value Counts for sother:\n",
      "sother\n",
      "0    3614\n",
      "1     185\n",
      "Name: count, dtype: int64\n",
      "\n",
      "Value Counts for smale:\n",
      "smale\n",
      "1    2012\n",
      "0    1787\n",
      "Name: count, dtype: int64\n",
      "\n",
      "Value Counts for omajblack:\n",
      "omajblack\n",
      "0    3568\n",
      "1     231\n",
      "Name: count, dtype: int64\n",
      "\n",
      "Value Counts for omajhisp:\n",
      "omajhisp\n",
      "0    3708\n",
      "1      91\n",
      "Name: count, dtype: int64\n",
      "\n",
      "Value Counts for omajwhite:\n",
      "omajwhite\n",
      "1    3433\n",
      "0     366\n",
      "Name: count, dtype: int64\n",
      "\n",
      "Value Counts for omajother:\n",
      "omajother\n",
      "0    3755\n",
      "1      44\n",
      "Name: count, dtype: int64\n",
      "\n",
      "Value Counts for osplit:\n",
      "osplit\n",
      "0    3799\n",
      "Name: count, dtype: int64\n",
      "\n",
      "Value Counts for inctype_lin:\n",
      "inctype_lin\n",
      "2    3641\n",
      "1     158\n",
      "Name: count, dtype: int64\n",
      "\n",
      "Value Counts for sbehavior:\n",
      "sbehavior\n",
      "0    3552\n",
      "1     247\n",
      "Name: count, dtype: int64\n"
     ]
    }
   ],
   "source": [
    "# Load the dataset\n",
    "dat = pd.read_csv('ppcs_cc.csv')\n",
    "\n",
    "# Inspect distribution of the target variable\n",
    "print(\"\\nDistribution of 'anyuseofforce_coded':\")\n",
    "print(dat['anyuseofforce_coded'].value_counts(normalize=True))\n",
    "\n",
    "# Inspect value counts for categorical variables\n",
    "categorical_vars = [\"sblack\", \"shisp\", \"swhite\", \"sother\", \"smale\", \"omajblack\", \n",
    "                    \"omajhisp\", \"omajwhite\", \"omajother\", \"osplit\", \"inctype_lin\", \"sbehavior\"]\n",
    "\n",
    "for var in categorical_vars:\n",
    "    print(f\"\\nValue Counts for {var}:\")\n",
    "    print(dat[var].value_counts())"
   ]
  },
  {
   "cell_type": "code",
   "execution_count": 37,
   "metadata": {},
   "outputs": [
    {
     "ename": "NameError",
     "evalue": "name 'x_vars' is not defined",
     "output_type": "error",
     "traceback": [
      "\u001b[0;31m---------------------------------------------------------------------------\u001b[0m",
      "\u001b[0;31mNameError\u001b[0m                                 Traceback (most recent call last)",
      "Cell \u001b[0;32mIn[37], line 16\u001b[0m\n\u001b[1;32m      3\u001b[0m x_lab \u001b[38;5;241m=\u001b[39m [\u001b[38;5;124m'\u001b[39m\u001b[38;5;124mconst\u001b[39m\u001b[38;5;124m'\u001b[39m, \u001b[38;5;124m'\u001b[39m\u001b[38;5;124msblack\u001b[39m\u001b[38;5;124m'\u001b[39m, \u001b[38;5;124m'\u001b[39m\u001b[38;5;124mshisp\u001b[39m\u001b[38;5;124m'\u001b[39m, \u001b[38;5;124m'\u001b[39m\u001b[38;5;124msother\u001b[39m\u001b[38;5;124m'\u001b[39m, \u001b[38;5;124m'\u001b[39m\u001b[38;5;124msmale\u001b[39m\u001b[38;5;124m'\u001b[39m, \u001b[38;5;124m'\u001b[39m\u001b[38;5;124msage\u001b[39m\u001b[38;5;124m'\u001b[39m]\n\u001b[1;32m      5\u001b[0m \u001b[38;5;66;03m#['const', 'sblack', 'shisp', 'sother', 'smale', 'sage', 'sempl', 'sincome', 'spop', 'daytime', 'inctype_lin', 'omajblack', 'omajhisp', 'omajother', 'sbehavior', 'year']  # Dropped 'osplit' and year // Multikollinearitet mellem hhv. \"omajblack\", \"omajhisp\" \"omajwhite\" og \"omajother\" +  \"sblack\", \"shisp\", \"swhite\", \"sother\"\u001b[39;00m\n\u001b[1;32m      6\u001b[0m \n\u001b[1;32m      7\u001b[0m \u001b[38;5;66;03m## Declare labels, her er sother og omajother taget ud, men I kan bare rette til white\u001b[39;00m\n\u001b[0;32m   (...)\u001b[0m\n\u001b[1;32m     14\u001b[0m \n\u001b[1;32m     15\u001b[0m \u001b[38;5;66;03m# create extra variables \u001b[39;00m\n\u001b[0;32m---> 16\u001b[0m K \u001b[38;5;241m=\u001b[39m \u001b[38;5;28mlen\u001b[39m(x_vars)\n\u001b[1;32m     17\u001b[0m N \u001b[38;5;241m=\u001b[39m dat\u001b[38;5;241m.\u001b[39mshape[\u001b[38;5;241m0\u001b[39m]\n\u001b[1;32m     18\u001b[0m dat[\u001b[38;5;124m'\u001b[39m\u001b[38;5;124mconst\u001b[39m\u001b[38;5;124m'\u001b[39m] \u001b[38;5;241m=\u001b[39m np\u001b[38;5;241m.\u001b[39mones((N,))\n",
      "\u001b[0;31mNameError\u001b[0m: name 'x_vars' is not defined"
     ]
    }
   ],
   "source": [
    "# Declare labels\n",
    "y_lab = 'anyuseofforce_coded'\n",
    "x_lab = ['const', 'sblack', 'shisp', 'sother', 'smale', 'sage']\n",
    "\n",
    "#['const', 'sblack', 'shisp', 'sother', 'smale', 'sage', 'sempl', 'sincome', 'spop', 'daytime', 'inctype_lin', 'omajblack', 'omajhisp', 'omajother', 'sbehavior', 'year']  # Dropped 'osplit' and year // Multikollinearitet mellem hhv. \"omajblack\", \"omajhisp\" \"omajwhite\" og \"omajother\" +  \"sblack\", \"shisp\", \"swhite\", \"sother\"\n",
    "\n",
    "## Declare labels, her er sother og omajother taget ud, men I kan bare rette til white\n",
    "#y_lab = 'anyuseofforce_coded'\n",
    "#x_lab = [\"const\", \"sblack\", \"shisp\", \"swhite\",  # Drop 'sother' giver Multikollinearitet  sammen med \"sblack\", \"shisp\", \"swhite\"\n",
    "#         \"smale\", \"sage\", \"sempl\", \"sincome\", \n",
    "#         \"spop\", \"daytime\", \"inctype_lin\", \n",
    "#         \"omajblack\", \"omajhisp\", \"omajwhite\",  # Drop 'omajother' giver Multikollinearitet sammen med \"omajblack\", \"omajhisp\", \"omajwhite\"\n",
    "#         \"sbehavior\"] # dropped year and osplit (indeholder kun 0?)\n",
    "\n",
    "# create extra variables \n",
    "N = dat.shape[0]\n",
    "dat['const'] = np.ones((N,))\n",
    "\n",
    "# Rebuild the dataset without 'osplit'\n",
    "dat = dat[[y_lab] + x_lab].copy()\n",
    "\n",
    "# Check for missing data\n",
    "assert dat.notnull().all(axis=1).all(), 'Missing values detected. Clean your data!'\n",
    "\n",
    "dat.head(5)"
   ]
  },
  {
   "cell_type": "code",
   "execution_count": 40,
   "metadata": {},
   "outputs": [
    {
     "name": "stdout",
     "output_type": "stream",
     "text": [
      "Updated Correlation Matrix:\n",
      "         const    sblack     shisp    sother     smale      sage\n",
      "const     NaN       NaN       NaN       NaN       NaN       NaN\n",
      "sblack    NaN  1.000000 -0.118565 -0.079767 -0.007463 -0.039889\n",
      "shisp     NaN -0.118565  1.000000 -0.076088  0.037650 -0.099664\n",
      "sother    NaN -0.079767 -0.076088  1.000000  0.014754 -0.044000\n",
      "smale     NaN -0.007463  0.037650  0.014754  1.000000 -0.018036\n",
      "sage      NaN -0.039889 -0.099664 -0.044000 -0.018036  1.000000\n"
     ]
    }
   ],
   "source": [
    "# Extract y and X\n",
    "y = dat[y_lab].values\n",
    "x = dat[x_lab].values\n",
    "K = x.shape[1]\n",
    "\n",
    "# Correlation matrix to check multicollinearity\n",
    "corr_matrix = pd.DataFrame(dat[x_lab]).corr()\n",
    "print(\"Updated Correlation Matrix:\\n\", corr_matrix)"
   ]
  },
  {
   "cell_type": "markdown",
   "metadata": {},
   "source": [
    "## Estimate using Probit"
   ]
  },
  {
   "cell_type": "code",
   "execution_count": 32,
   "metadata": {},
   "outputs": [
    {
     "name": "stdout",
     "output_type": "stream",
     "text": [
      "Starting values for theta: [ 0.01950952  0.00861707  0.02755749  0.00319188  0.01218717 -0.00042353]\n",
      "Log-likelihood at starting values: -0.7030183991613362\n",
      "Log-likelihood check: False\n",
      "Optimization terminated successfully.\n",
      "         Current function value: 0.092128\n",
      "         Iterations: 1\n",
      "         Function evaluations: 14\n",
      "         Gradient evaluations: 2\n"
     ]
    },
    {
     "ename": "LinAlgError",
     "evalue": "Singular matrix",
     "output_type": "error",
     "traceback": [
      "\u001b[0;31m---------------------------------------------------------------------------\u001b[0m",
      "\u001b[0;31mLinAlgError\u001b[0m                               Traceback (most recent call last)",
      "Cell \u001b[0;32mIn[32], line 15\u001b[0m\n\u001b[1;32m     12\u001b[0m expected_ll_mean \u001b[38;5;241m=\u001b[39m \u001b[38;5;241m-\u001b[39m\u001b[38;5;241m1.0411283428047824\u001b[39m\n\u001b[1;32m     13\u001b[0m \u001b[38;5;28mprint\u001b[39m(\u001b[38;5;124m\"\u001b[39m\u001b[38;5;124mLog-likelihood check:\u001b[39m\u001b[38;5;124m\"\u001b[39m, np\u001b[38;5;241m.\u001b[39misclose(np\u001b[38;5;241m.\u001b[39mmean(ll), expected_ll_mean))\n\u001b[0;32m---> 15\u001b[0m probit_results \u001b[38;5;241m=\u001b[39m est\u001b[38;5;241m.\u001b[39mestimate(probit\u001b[38;5;241m.\u001b[39mq, theta0, y, x)\n\u001b[1;32m     17\u001b[0m probit_tab \u001b[38;5;241m=\u001b[39m est\u001b[38;5;241m.\u001b[39mprint_table(x_lab, probit_results, title\u001b[38;5;241m=\u001b[39m\u001b[38;5;124mf\u001b[39m\u001b[38;5;124m'\u001b[39m\u001b[38;5;124mProbit, y = \u001b[39m\u001b[38;5;132;01m{\u001b[39;00my_lab\u001b[38;5;132;01m}\u001b[39;00m\u001b[38;5;124m'\u001b[39m)\n",
      "File \u001b[0;32m~/Desktop/Stud.polit/KA/9. semester/Advanced Microeconometrics/AME-Clara-Theis-Ida/Project 3/estimation.py:47\u001b[0m, in \u001b[0;36mestimate\u001b[0;34m(q, theta0, y, x, cov_type, options, **kwargs)\u001b[0m\n\u001b[1;32m     44\u001b[0m \u001b[38;5;66;03m# call optimizer\u001b[39;00m\n\u001b[1;32m     45\u001b[0m result \u001b[38;5;241m=\u001b[39m optimize\u001b[38;5;241m.\u001b[39mminimize(Q, theta0, options\u001b[38;5;241m=\u001b[39moptions, \u001b[38;5;241m*\u001b[39m\u001b[38;5;241m*\u001b[39mkwargs)\n\u001b[0;32m---> 47\u001b[0m cov, se \u001b[38;5;241m=\u001b[39m variance(q, y, x, result, cov_type)   \n\u001b[1;32m     49\u001b[0m \u001b[38;5;66;03m# collect output in a dict \u001b[39;00m\n\u001b[1;32m     50\u001b[0m res \u001b[38;5;241m=\u001b[39m {\n\u001b[1;32m     51\u001b[0m     \u001b[38;5;124m'\u001b[39m\u001b[38;5;124mtheta\u001b[39m\u001b[38;5;124m'\u001b[39m: result\u001b[38;5;241m.\u001b[39mx,\n\u001b[1;32m     52\u001b[0m     \u001b[38;5;124m'\u001b[39m\u001b[38;5;124mse\u001b[39m\u001b[38;5;124m'\u001b[39m:       se,\n\u001b[0;32m   (...)\u001b[0m\n\u001b[1;32m     58\u001b[0m     \u001b[38;5;124m'\u001b[39m\u001b[38;5;124mfun\u001b[39m\u001b[38;5;124m'\u001b[39m:      result\u001b[38;5;241m.\u001b[39mfun \u001b[38;5;66;03m# function value at termination \u001b[39;00m\n\u001b[1;32m     59\u001b[0m }\n",
      "File \u001b[0;32m~/Desktop/Stud.polit/KA/9. semester/Advanced Microeconometrics/AME-Clara-Theis-Ida/Project 3/estimation.py:102\u001b[0m, in \u001b[0;36mvariance\u001b[0;34m(q, y, x, result, cov_type)\u001b[0m\n\u001b[1;32m    100\u001b[0m     cov \u001b[38;5;241m=\u001b[39m \u001b[38;5;241m1\u001b[39m\u001b[38;5;241m/\u001b[39mN \u001b[38;5;241m*\u001b[39m A_inv\n\u001b[1;32m    101\u001b[0m \u001b[38;5;28;01melif\u001b[39;00m cov_type \u001b[38;5;241m==\u001b[39m \u001b[38;5;124m'\u001b[39m\u001b[38;5;124mOuter Product\u001b[39m\u001b[38;5;124m'\u001b[39m:\n\u001b[0;32m--> 102\u001b[0m     cov \u001b[38;5;241m=\u001b[39m \u001b[38;5;241m1\u001b[39m\u001b[38;5;241m/\u001b[39mN \u001b[38;5;241m*\u001b[39m la\u001b[38;5;241m.\u001b[39minv(B)\n\u001b[1;32m    103\u001b[0m \u001b[38;5;28;01melif\u001b[39;00m cov_type \u001b[38;5;241m==\u001b[39m \u001b[38;5;124m'\u001b[39m\u001b[38;5;124mSandwich\u001b[39m\u001b[38;5;124m'\u001b[39m:\n\u001b[1;32m    104\u001b[0m     A_inv \u001b[38;5;241m=\u001b[39m H_inv \u001b[38;5;66;03m# result.hess_inv\u001b[39;00m\n",
      "File \u001b[0;32m~/anaconda3/lib/python3.11/site-packages/numpy/linalg/linalg.py:561\u001b[0m, in \u001b[0;36minv\u001b[0;34m(a)\u001b[0m\n\u001b[1;32m    559\u001b[0m signature \u001b[38;5;241m=\u001b[39m \u001b[38;5;124m'\u001b[39m\u001b[38;5;124mD->D\u001b[39m\u001b[38;5;124m'\u001b[39m \u001b[38;5;28;01mif\u001b[39;00m isComplexType(t) \u001b[38;5;28;01melse\u001b[39;00m \u001b[38;5;124m'\u001b[39m\u001b[38;5;124md->d\u001b[39m\u001b[38;5;124m'\u001b[39m\n\u001b[1;32m    560\u001b[0m extobj \u001b[38;5;241m=\u001b[39m get_linalg_error_extobj(_raise_linalgerror_singular)\n\u001b[0;32m--> 561\u001b[0m ainv \u001b[38;5;241m=\u001b[39m _umath_linalg\u001b[38;5;241m.\u001b[39minv(a, signature\u001b[38;5;241m=\u001b[39msignature, extobj\u001b[38;5;241m=\u001b[39mextobj)\n\u001b[1;32m    562\u001b[0m \u001b[38;5;28;01mreturn\u001b[39;00m wrap(ainv\u001b[38;5;241m.\u001b[39mastype(result_t, copy\u001b[38;5;241m=\u001b[39m\u001b[38;5;28;01mFalse\u001b[39;00m))\n",
      "File \u001b[0;32m~/anaconda3/lib/python3.11/site-packages/numpy/linalg/linalg.py:112\u001b[0m, in \u001b[0;36m_raise_linalgerror_singular\u001b[0;34m(err, flag)\u001b[0m\n\u001b[1;32m    111\u001b[0m \u001b[38;5;28;01mdef\u001b[39;00m \u001b[38;5;21m_raise_linalgerror_singular\u001b[39m(err, flag):\n\u001b[0;32m--> 112\u001b[0m     \u001b[38;5;28;01mraise\u001b[39;00m LinAlgError(\u001b[38;5;124m\"\u001b[39m\u001b[38;5;124mSingular matrix\u001b[39m\u001b[38;5;124m\"\u001b[39m)\n",
      "\u001b[0;31mLinAlgError\u001b[0m: Singular matrix"
     ]
    }
   ],
   "source": [
    "# Initialize starting values\n",
    "theta0 = probit.starting_values(y, x)\n",
    "\n",
    "# Display starting values\n",
    "print(\"Starting values for theta:\", theta0)\n",
    "\n",
    "# Calculate log-likelihood at the starting values\n",
    "ll = probit.loglikelihood(theta0, y, x)\n",
    "print(\"Log-likelihood at starting values:\", np.mean(ll))\n",
    "\n",
    "# Verify if it matches the expected result\n",
    "expected_ll_mean = -1.0411283428047824\n",
    "print(\"Log-likelihood check:\", np.isclose(np.mean(ll), expected_ll_mean))\n",
    "\n",
    "probit_results = est.estimate(probit.q, theta0, y, x)\n",
    "\n",
    "probit_tab = est.print_table(x_lab, probit_results, title=f'Probit, y = {y_lab}')\n"
   ]
  },
  {
   "cell_type": "markdown",
   "metadata": {},
   "source": [
    "Jeg får Singular Matrix selvom jeg prøver at tage højde for Multikollinearitet, chatten foreslår at lave om i \"estimation.py\""
   ]
  },
  {
   "cell_type": "code",
   "execution_count": 31,
   "metadata": {},
   "outputs": [
    {
     "ename": "NameError",
     "evalue": "name 'probit_results' is not defined",
     "output_type": "error",
     "traceback": [
      "\u001b[0;31m---------------------------------------------------------------------------\u001b[0m",
      "\u001b[0;31mNameError\u001b[0m                                 Traceback (most recent call last)",
      "Cell \u001b[0;32mIn[31], line 1\u001b[0m\n\u001b[0;32m----> 1\u001b[0m probit_tab \u001b[38;5;241m=\u001b[39m est\u001b[38;5;241m.\u001b[39mprint_table(x_lab, probit_results, title\u001b[38;5;241m=\u001b[39m\u001b[38;5;124mf\u001b[39m\u001b[38;5;124m'\u001b[39m\u001b[38;5;124mProbit, y = \u001b[39m\u001b[38;5;132;01m{\u001b[39;00my_lab\u001b[38;5;132;01m}\u001b[39;00m\u001b[38;5;124m'\u001b[39m)\n\u001b[1;32m      2\u001b[0m probit_tab\n",
      "\u001b[0;31mNameError\u001b[0m: name 'probit_results' is not defined"
     ]
    }
   ],
   "source": [
    "probit_tab = est.print_table(x_lab, probit_results, title=f'Probit, y = {y_lab}')\n",
    "probit_tab"
   ]
  },
  {
   "cell_type": "markdown",
   "metadata": {},
   "source": [
    "## Estimate using Logit"
   ]
  },
  {
   "cell_type": "code",
   "execution_count": 33,
   "metadata": {},
   "outputs": [
    {
     "name": "stdout",
     "output_type": "stream",
     "text": [
      "Optimization terminated successfully.\n",
      "         Current function value: 0.028891\n",
      "         Iterations: 65\n",
      "         Function evaluations: 588\n",
      "         Gradient evaluations: 84\n"
     ]
    }
   ],
   "source": [
    "logit_results = est.estimate(logit.q, theta0, y, x)"
   ]
  },
  {
   "cell_type": "code",
   "execution_count": 36,
   "metadata": {},
   "outputs": [
    {
     "data": {
      "text/plain": [
       "False"
      ]
     },
     "execution_count": 36,
     "metadata": {},
     "output_type": "execute_result"
    }
   ],
   "source": [
    "ll = logit.loglikelihood(theta0, y, x)\n",
    "np.isclose(np.mean(ll),-0.9974267061091704)"
   ]
  },
  {
   "cell_type": "code",
   "execution_count": 34,
   "metadata": {},
   "outputs": [
    {
     "name": "stdout",
     "output_type": "stream",
     "text": [
      "Optimizer succeded after 65 iter. (588 func. evals.). Final criterion:  0.02889.\n",
      "Logit, y = anyuseofforce_coded\n"
     ]
    },
    {
     "data": {
      "text/html": [
       "<div>\n",
       "<style scoped>\n",
       "    .dataframe tbody tr th:only-of-type {\n",
       "        vertical-align: middle;\n",
       "    }\n",
       "\n",
       "    .dataframe tbody tr th {\n",
       "        vertical-align: top;\n",
       "    }\n",
       "\n",
       "    .dataframe thead th {\n",
       "        text-align: right;\n",
       "    }\n",
       "</style>\n",
       "<table border=\"1\" class=\"dataframe\">\n",
       "  <thead>\n",
       "    <tr style=\"text-align: right;\">\n",
       "      <th></th>\n",
       "      <th>theta</th>\n",
       "      <th>se</th>\n",
       "      <th>t</th>\n",
       "    </tr>\n",
       "  </thead>\n",
       "  <tbody>\n",
       "    <tr>\n",
       "      <th>const</th>\n",
       "      <td>-4.8365</td>\n",
       "      <td>0.8876</td>\n",
       "      <td>-5.4490</td>\n",
       "    </tr>\n",
       "    <tr>\n",
       "      <th>sblack</th>\n",
       "      <td>0.7384</td>\n",
       "      <td>0.6865</td>\n",
       "      <td>1.0757</td>\n",
       "    </tr>\n",
       "    <tr>\n",
       "      <th>shisp</th>\n",
       "      <td>1.3266</td>\n",
       "      <td>0.5357</td>\n",
       "      <td>2.4765</td>\n",
       "    </tr>\n",
       "    <tr>\n",
       "      <th>sother</th>\n",
       "      <td>0.3254</td>\n",
       "      <td>1.3300</td>\n",
       "      <td>0.2447</td>\n",
       "    </tr>\n",
       "    <tr>\n",
       "      <th>smale</th>\n",
       "      <td>1.1243</td>\n",
       "      <td>0.6258</td>\n",
       "      <td>1.7966</td>\n",
       "    </tr>\n",
       "    <tr>\n",
       "      <th>sage</th>\n",
       "      <td>-0.0446</td>\n",
       "      <td>0.0288</td>\n",
       "      <td>-1.5499</td>\n",
       "    </tr>\n",
       "  </tbody>\n",
       "</table>\n",
       "</div>"
      ],
      "text/plain": [
       "         theta      se       t\n",
       "const  -4.8365  0.8876 -5.4490\n",
       "sblack  0.7384  0.6865  1.0757\n",
       "shisp   1.3266  0.5357  2.4765\n",
       "sother  0.3254  1.3300  0.2447\n",
       "smale   1.1243  0.6258  1.7966\n",
       "sage   -0.0446  0.0288 -1.5499"
      ]
     },
     "execution_count": 34,
     "metadata": {},
     "output_type": "execute_result"
    }
   ],
   "source": [
    "logit_tab = est.print_table(x_lab, logit_results, title=f'Logit, y = {y_lab}')\n",
    "logit_tab"
   ]
  },
  {
   "cell_type": "markdown",
   "metadata": {},
   "source": [
    "## Partial and Average Effects"
   ]
  },
  {
   "cell_type": "code",
   "execution_count": null,
   "metadata": {},
   "outputs": [],
   "source": []
  },
  {
   "cell_type": "markdown",
   "metadata": {},
   "source": [
    "## Standard errors of the marginal effects with the Delta Method\n"
   ]
  }
 ],
 "metadata": {
  "kernelspec": {
   "display_name": "base",
   "language": "python",
   "name": "python3"
  },
  "language_info": {
   "codemirror_mode": {
    "name": "ipython",
    "version": 3
   },
   "file_extension": ".py",
   "mimetype": "text/x-python",
   "name": "python",
   "nbconvert_exporter": "python",
   "pygments_lexer": "ipython3",
   "version": "3.11.7"
  }
 },
 "nbformat": 4,
 "nbformat_minor": 2
}
