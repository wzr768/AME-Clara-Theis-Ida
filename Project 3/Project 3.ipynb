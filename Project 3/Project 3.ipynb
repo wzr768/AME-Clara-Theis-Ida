{
 "cells": [
  {
   "cell_type": "markdown",
   "metadata": {},
   "source": [
    "# Project III: Classical Non-linear Models and Police use of force\n",
    "This notebook uses the Police Public Contact Survey (PPCS) dataset: `ppcs_cc.csv`."
   ]
  },
  {
   "cell_type": "code",
   "execution_count": 1,
   "metadata": {},
   "outputs": [],
   "source": [
    "%load_ext autoreload\n",
    "%autoreload 2\n",
    "\n",
    "import pandas as pd \n",
    "import numpy as np\n",
    "import seaborn as sns\n",
    "import matplotlib.pyplot as plt \n",
    "import probit as probit\n",
    "import logit as logit\n",
    "import estimation as est\n"
   ]
  },
  {
   "cell_type": "markdown",
   "metadata": {},
   "source": [
    "### Load the data "
   ]
  },
  {
   "cell_type": "code",
   "execution_count": 2,
   "metadata": {},
   "outputs": [
    {
     "name": "stdout",
     "output_type": "stream",
     "text": [
      "\n",
      "Distribution of 'anyuseofforce_coded':\n",
      "anyuseofforce_coded\n",
      "0    0.994999\n",
      "1    0.005001\n",
      "Name: proportion, dtype: float64\n",
      "\n",
      "Value Counts for sblack:\n",
      "sblack\n",
      "0    3379\n",
      "1     420\n",
      "Name: count, dtype: int64\n",
      "\n",
      "Value Counts for shisp:\n",
      "shisp\n",
      "0    3413\n",
      "1     386\n",
      "Name: count, dtype: int64\n",
      "\n",
      "Value Counts for swhite:\n",
      "swhite\n",
      "1    2808\n",
      "0     991\n",
      "Name: count, dtype: int64\n",
      "\n",
      "Value Counts for sother:\n",
      "sother\n",
      "0    3614\n",
      "1     185\n",
      "Name: count, dtype: int64\n",
      "\n",
      "Value Counts for smale:\n",
      "smale\n",
      "1    2012\n",
      "0    1787\n",
      "Name: count, dtype: int64\n",
      "\n",
      "Value Counts for omajblack:\n",
      "omajblack\n",
      "0    3568\n",
      "1     231\n",
      "Name: count, dtype: int64\n",
      "\n",
      "Value Counts for omajhisp:\n",
      "omajhisp\n",
      "0    3708\n",
      "1      91\n",
      "Name: count, dtype: int64\n",
      "\n",
      "Value Counts for omajwhite:\n",
      "omajwhite\n",
      "1    3433\n",
      "0     366\n",
      "Name: count, dtype: int64\n",
      "\n",
      "Value Counts for omajother:\n",
      "omajother\n",
      "0    3755\n",
      "1      44\n",
      "Name: count, dtype: int64\n",
      "\n",
      "Value Counts for osplit:\n",
      "osplit\n",
      "0    3799\n",
      "Name: count, dtype: int64\n",
      "\n",
      "Value Counts for inctype_lin:\n",
      "inctype_lin\n",
      "2    3641\n",
      "1     158\n",
      "Name: count, dtype: int64\n",
      "\n",
      "Value Counts for sbehavior:\n",
      "sbehavior\n",
      "0    3552\n",
      "1     247\n",
      "Name: count, dtype: int64\n"
     ]
    }
   ],
   "source": [
    "# Load the dataset\n",
    "dat = pd.read_csv('ppcs_cc.csv')\n",
    "\n",
    "# Inspect distribution of the target variable\n",
    "print(\"\\nDistribution of 'anyuseofforce_coded':\")\n",
    "print(dat['anyuseofforce_coded'].value_counts(normalize=True))\n",
    "\n",
    "# Inspect value counts for categorical variables\n",
    "categorical_vars = [\"sblack\", \"shisp\", \"swhite\", \"sother\", \"smale\", \"omajblack\", \n",
    "                    \"omajhisp\", \"omajwhite\", \"omajother\", \"osplit\", \"inctype_lin\", \"sbehavior\"]\n",
    "\n",
    "for var in categorical_vars:\n",
    "    print(f\"\\nValue Counts for {var}:\")\n",
    "    print(dat[var].value_counts())"
   ]
  },
  {
   "cell_type": "code",
   "execution_count": 3,
   "metadata": {},
   "outputs": [
    {
     "data": {
      "text/html": [
       "<div>\n",
       "<style scoped>\n",
       "    .dataframe tbody tr th:only-of-type {\n",
       "        vertical-align: middle;\n",
       "    }\n",
       "\n",
       "    .dataframe tbody tr th {\n",
       "        vertical-align: top;\n",
       "    }\n",
       "\n",
       "    .dataframe thead th {\n",
       "        text-align: right;\n",
       "    }\n",
       "</style>\n",
       "<table border=\"1\" class=\"dataframe\">\n",
       "  <thead>\n",
       "    <tr style=\"text-align: right;\">\n",
       "      <th></th>\n",
       "      <th>anyuseofforce_coded</th>\n",
       "      <th>const</th>\n",
       "      <th>sblack</th>\n",
       "      <th>shisp</th>\n",
       "      <th>sother</th>\n",
       "      <th>smale</th>\n",
       "      <th>sage</th>\n",
       "    </tr>\n",
       "  </thead>\n",
       "  <tbody>\n",
       "    <tr>\n",
       "      <th>0</th>\n",
       "      <td>0</td>\n",
       "      <td>1.0</td>\n",
       "      <td>1</td>\n",
       "      <td>0</td>\n",
       "      <td>0</td>\n",
       "      <td>1</td>\n",
       "      <td>1.8</td>\n",
       "    </tr>\n",
       "    <tr>\n",
       "      <th>1</th>\n",
       "      <td>0</td>\n",
       "      <td>1.0</td>\n",
       "      <td>1</td>\n",
       "      <td>0</td>\n",
       "      <td>0</td>\n",
       "      <td>1</td>\n",
       "      <td>2.0</td>\n",
       "    </tr>\n",
       "    <tr>\n",
       "      <th>2</th>\n",
       "      <td>0</td>\n",
       "      <td>1.0</td>\n",
       "      <td>1</td>\n",
       "      <td>0</td>\n",
       "      <td>0</td>\n",
       "      <td>1</td>\n",
       "      <td>2.2</td>\n",
       "    </tr>\n",
       "    <tr>\n",
       "      <th>3</th>\n",
       "      <td>0</td>\n",
       "      <td>1.0</td>\n",
       "      <td>1</td>\n",
       "      <td>0</td>\n",
       "      <td>0</td>\n",
       "      <td>1</td>\n",
       "      <td>2.2</td>\n",
       "    </tr>\n",
       "    <tr>\n",
       "      <th>4</th>\n",
       "      <td>0</td>\n",
       "      <td>1.0</td>\n",
       "      <td>1</td>\n",
       "      <td>0</td>\n",
       "      <td>0</td>\n",
       "      <td>1</td>\n",
       "      <td>2.2</td>\n",
       "    </tr>\n",
       "  </tbody>\n",
       "</table>\n",
       "</div>"
      ],
      "text/plain": [
       "   anyuseofforce_coded  const  sblack  shisp  sother  smale  sage\n",
       "0                    0    1.0       1      0       0      1   1.8\n",
       "1                    0    1.0       1      0       0      1   2.0\n",
       "2                    0    1.0       1      0       0      1   2.2\n",
       "3                    0    1.0       1      0       0      1   2.2\n",
       "4                    0    1.0       1      0       0      1   2.2"
      ]
     },
     "execution_count": 3,
     "metadata": {},
     "output_type": "execute_result"
    }
   ],
   "source": [
    "# Declare labels    \n",
    "y_lab = 'anyuseofforce_coded'\n",
    "x_lab = ['const', 'sblack', 'shisp', 'sother', 'smale', 'sage']\n",
    "dat['sage'] = dat['sage'] / 10\n",
    "\n",
    "#['const', 'sblack', 'shisp', 'sother', 'smale', 'sage', 'sempl', 'sincome', 'spop', 'daytime', 'inctype_lin', 'omajblack', 'omajhisp', 'omajother', 'sbehavior', 'year']  # Dropped 'osplit' and year // Multikollinearitet mellem hhv. \"omajblack\", \"omajhisp\" \"omajwhite\" og \"omajother\" +  \"sblack\", \"shisp\", \"swhite\", \"sother\"\n",
    "\n",
    "## Declare labels, her er sother og omajother taget ud, men I kan bare rette til white\n",
    "#y_lab = 'anyuseofforce_coded'\n",
    "#x_lab = [\"const\", \"sblack\", \"shisp\", \"swhite\",  # Drop 'sother' giver Multikollinearitet  sammen med \"sblack\", \"shisp\", \"swhite\"\n",
    "#         \"smale\", \"sage\", \"sempl\", \"sincome\", \n",
    "#         \"spop\", \"daytime\", \"inctype_lin\", \n",
    "#         \"omajblack\", \"omajhisp\", \"omajwhite\",  # Drop 'omajother' giver Multikollinearitet sammen med \"omajblack\", \"omajhisp\", \"omajwhite\"\n",
    "#         \"sbehavior\"] # dropped year and osplit (indeholder kun 0?)\n",
    "\n",
    "# create extra variables \n",
    "N = dat.shape[0]\n",
    "dat['const'] = np.ones((N,))\n",
    "\n",
    "# Rebuild the dataset without 'osplit'\n",
    "dat = dat[[y_lab] + x_lab].copy()\n",
    "\n",
    "# Check for missing data\n",
    "assert dat.notnull().all(axis=1).all(), 'Missing values detected. Clean your data!'\n",
    "\n",
    "dat.head(5)"
   ]
  },
  {
   "cell_type": "code",
   "execution_count": 12,
   "metadata": {},
   "outputs": [
    {
     "name": "stdout",
     "output_type": "stream",
     "text": [
      "Updated Correlation Matrix:\n",
      "         const    sblack     shisp    sother     smale      sage\n",
      "const     NaN       NaN       NaN       NaN       NaN       NaN\n",
      "sblack    NaN  1.000000 -0.118565 -0.079767 -0.007463 -0.039889\n",
      "shisp     NaN -0.118565  1.000000 -0.076088  0.037650 -0.099664\n",
      "sother    NaN -0.079767 -0.076088  1.000000  0.014754 -0.044000\n",
      "smale     NaN -0.007463  0.037650  0.014754  1.000000 -0.018036\n",
      "sage      NaN -0.039889 -0.099664 -0.044000 -0.018036  1.000000\n"
     ]
    }
   ],
   "source": [
    "# Extract y and X\n",
    "y = dat[y_lab].values\n",
    "x = dat[x_lab].values\n",
    "K = x.shape[1]\n",
    "\n",
    "# Correlation matrix to check multicollinearity\n",
    "corr_matrix = pd.DataFrame(dat[x_lab]).corr()\n",
    "print(\"Updated Correlation Matrix:\\n\", corr_matrix)\n",
    "\n"
   ]
  },
  {
   "cell_type": "markdown",
   "metadata": {},
   "source": [
    "## Estimate using Probit"
   ]
  },
  {
   "cell_type": "code",
   "execution_count": null,
   "metadata": {},
   "outputs": [
    {
     "name": "stdout",
     "output_type": "stream",
     "text": [
      "Starting values for theta: [ 0.01950952  0.00861707  0.02755749  0.00319188  0.01218717 -0.00423526]\n",
      "Optimization terminated successfully.\n",
      "         Current function value: 0.028810\n",
      "         Iterations: 48\n",
      "         Function evaluations: 392\n",
      "         Gradient evaluations: 56\n"
     ]
    }
   ],
   "source": [
    "# Initialize starting values\n",
    "theta0 = probit.starting_values(y, x)\n",
    "\n",
    "# Display starting values\n",
    "print(\"Starting values for theta:\", theta0)\n",
    "\n",
    "probit_results = est.estimate(probit.q, theta0, y, x)"
   ]
  },
  {
   "cell_type": "code",
   "execution_count": 7,
   "metadata": {},
   "outputs": [
    {
     "name": "stdout",
     "output_type": "stream",
     "text": [
      "Optimizer succeded after 48 iter. (392 func. evals.). Final criterion:  0.02881.\n",
      "Probit, y = anyuseofforce_coded\n"
     ]
    },
    {
     "data": {
      "text/html": [
       "<div>\n",
       "<style scoped>\n",
       "    .dataframe tbody tr th:only-of-type {\n",
       "        vertical-align: middle;\n",
       "    }\n",
       "\n",
       "    .dataframe tbody tr th {\n",
       "        vertical-align: top;\n",
       "    }\n",
       "\n",
       "    .dataframe thead th {\n",
       "        text-align: right;\n",
       "    }\n",
       "</style>\n",
       "<table border=\"1\" class=\"dataframe\">\n",
       "  <thead>\n",
       "    <tr style=\"text-align: right;\">\n",
       "      <th></th>\n",
       "      <th>theta</th>\n",
       "      <th>se</th>\n",
       "      <th>t</th>\n",
       "    </tr>\n",
       "  </thead>\n",
       "  <tbody>\n",
       "    <tr>\n",
       "      <th>const</th>\n",
       "      <td>-2.4026</td>\n",
       "      <td>0.3058</td>\n",
       "      <td>-7.8562</td>\n",
       "    </tr>\n",
       "    <tr>\n",
       "      <th>sblack</th>\n",
       "      <td>0.2567</td>\n",
       "      <td>0.2538</td>\n",
       "      <td>1.0112</td>\n",
       "    </tr>\n",
       "    <tr>\n",
       "      <th>shisp</th>\n",
       "      <td>0.4965</td>\n",
       "      <td>0.2040</td>\n",
       "      <td>2.4330</td>\n",
       "    </tr>\n",
       "    <tr>\n",
       "      <th>sother</th>\n",
       "      <td>0.1582</td>\n",
       "      <td>0.4338</td>\n",
       "      <td>0.3645</td>\n",
       "    </tr>\n",
       "    <tr>\n",
       "      <th>smale</th>\n",
       "      <td>0.4176</td>\n",
       "      <td>0.2230</td>\n",
       "      <td>1.8723</td>\n",
       "    </tr>\n",
       "    <tr>\n",
       "      <th>sage</th>\n",
       "      <td>-0.1635</td>\n",
       "      <td>0.0980</td>\n",
       "      <td>-1.6682</td>\n",
       "    </tr>\n",
       "  </tbody>\n",
       "</table>\n",
       "</div>"
      ],
      "text/plain": [
       "         theta      se       t\n",
       "const  -2.4026  0.3058 -7.8562\n",
       "sblack  0.2567  0.2538  1.0112\n",
       "shisp   0.4965  0.2040  2.4330\n",
       "sother  0.1582  0.4338  0.3645\n",
       "smale   0.4176  0.2230  1.8723\n",
       "sage   -0.1635  0.0980 -1.6682"
      ]
     },
     "execution_count": 7,
     "metadata": {},
     "output_type": "execute_result"
    }
   ],
   "source": [
    "probit_tab = est.print_table(x_lab, probit_results, title=f'Probit, y = {y_lab}')\n",
    "probit_tab"
   ]
  },
  {
   "cell_type": "markdown",
   "metadata": {},
   "source": [
    "## Estimate using Logit"
   ]
  },
  {
   "cell_type": "code",
   "execution_count": 8,
   "metadata": {},
   "outputs": [
    {
     "name": "stdout",
     "output_type": "stream",
     "text": [
      "Optimization terminated successfully.\n",
      "         Current function value: 0.028891\n",
      "         Iterations: 78\n",
      "         Function evaluations: 553\n",
      "         Gradient evaluations: 79\n"
     ]
    }
   ],
   "source": [
    "logit_results = est.estimate(logit.q, theta0, y, x)"
   ]
  },
  {
   "cell_type": "code",
   "execution_count": 10,
   "metadata": {},
   "outputs": [
    {
     "name": "stdout",
     "output_type": "stream",
     "text": [
      "Optimizer succeded after 78 iter. (553 func. evals.). Final criterion:  0.02889.\n",
      "Logit, y = anyuseofforce_coded\n"
     ]
    },
    {
     "data": {
      "text/html": [
       "<div>\n",
       "<style scoped>\n",
       "    .dataframe tbody tr th:only-of-type {\n",
       "        vertical-align: middle;\n",
       "    }\n",
       "\n",
       "    .dataframe tbody tr th {\n",
       "        vertical-align: top;\n",
       "    }\n",
       "\n",
       "    .dataframe thead th {\n",
       "        text-align: right;\n",
       "    }\n",
       "</style>\n",
       "<table border=\"1\" class=\"dataframe\">\n",
       "  <thead>\n",
       "    <tr style=\"text-align: right;\">\n",
       "      <th></th>\n",
       "      <th>theta</th>\n",
       "      <th>se</th>\n",
       "      <th>t</th>\n",
       "    </tr>\n",
       "  </thead>\n",
       "  <tbody>\n",
       "    <tr>\n",
       "      <th>const</th>\n",
       "      <td>-4.8380</td>\n",
       "      <td>0.8876</td>\n",
       "      <td>-5.4509</td>\n",
       "    </tr>\n",
       "    <tr>\n",
       "      <th>sblack</th>\n",
       "      <td>0.7342</td>\n",
       "      <td>0.6865</td>\n",
       "      <td>1.0695</td>\n",
       "    </tr>\n",
       "    <tr>\n",
       "      <th>shisp</th>\n",
       "      <td>1.3213</td>\n",
       "      <td>0.5357</td>\n",
       "      <td>2.4667</td>\n",
       "    </tr>\n",
       "    <tr>\n",
       "      <th>sother</th>\n",
       "      <td>0.3257</td>\n",
       "      <td>1.3299</td>\n",
       "      <td>0.2449</td>\n",
       "    </tr>\n",
       "    <tr>\n",
       "      <th>smale</th>\n",
       "      <td>1.1300</td>\n",
       "      <td>0.6258</td>\n",
       "      <td>1.8057</td>\n",
       "    </tr>\n",
       "    <tr>\n",
       "      <th>sage</th>\n",
       "      <td>-0.4465</td>\n",
       "      <td>0.2879</td>\n",
       "      <td>-1.5505</td>\n",
       "    </tr>\n",
       "  </tbody>\n",
       "</table>\n",
       "</div>"
      ],
      "text/plain": [
       "         theta      se       t\n",
       "const  -4.8380  0.8876 -5.4509\n",
       "sblack  0.7342  0.6865  1.0695\n",
       "shisp   1.3213  0.5357  2.4667\n",
       "sother  0.3257  1.3299  0.2449\n",
       "smale   1.1300  0.6258  1.8057\n",
       "sage   -0.4465  0.2879 -1.5505"
      ]
     },
     "execution_count": 10,
     "metadata": {},
     "output_type": "execute_result"
    }
   ],
   "source": [
    "logit_tab = est.print_table(x_lab, logit_results, title=f'Logit, y = {y_lab}')\n",
    "logit_tab"
   ]
  },
  {
   "cell_type": "markdown",
   "metadata": {},
   "source": [
    "## Partial and Average Effects"
   ]
  },
  {
   "cell_type": "code",
   "execution_count": null,
   "metadata": {},
   "outputs": [],
   "source": []
  },
  {
   "cell_type": "markdown",
   "metadata": {},
   "source": [
    "## Standard errors of the marginal effects with the Delta Method\n"
   ]
  }
 ],
 "metadata": {
  "kernelspec": {
   "display_name": "base",
   "language": "python",
   "name": "python3"
  },
  "language_info": {
   "codemirror_mode": {
    "name": "ipython",
    "version": 3
   },
   "file_extension": ".py",
   "mimetype": "text/x-python",
   "name": "python",
   "nbconvert_exporter": "python",
   "pygments_lexer": "ipython3",
   "version": "3.11.5"
  }
 },
 "nbformat": 4,
 "nbformat_minor": 2
}
