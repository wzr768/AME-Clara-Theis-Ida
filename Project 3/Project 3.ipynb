{
 "cells": [
  {
   "cell_type": "markdown",
   "metadata": {},
   "source": [
    "# Project III: Classical Non-linear Models and Police use of force\n",
    "This notebook uses the Police Public Contact Survey (PPCS) dataset: `ppcs_cc.csv`."
   ]
  },
  {
   "cell_type": "code",
   "execution_count": null,
   "metadata": {},
   "outputs": [],
   "source": [
    "%load_ext autoreload\n",
    "%autoreload 2\n",
    "\n",
    "import pandas as pd \n",
    "import numpy as np\n",
    "import seaborn as sns\n",
    "import matplotlib.pyplot as plt \n",
    "\n"
   ]
  },
  {
   "cell_type": "code",
   "execution_count": 17,
   "metadata": {},
   "outputs": [
    {
     "name": "stdout",
     "output_type": "stream",
     "text": [
      "\n",
      "Distribution of 'anyuseofforce_coded':\n",
      "anyuseofforce_coded\n",
      "0    0.994999\n",
      "1    0.005001\n",
      "Name: proportion, dtype: float64\n",
      "\n",
      "Value Counts for sblack:\n",
      "sblack\n",
      "0    3379\n",
      "1     420\n",
      "Name: count, dtype: int64\n",
      "\n",
      "Value Counts for shisp:\n",
      "shisp\n",
      "0    3413\n",
      "1     386\n",
      "Name: count, dtype: int64\n",
      "\n",
      "Value Counts for swhite:\n",
      "swhite\n",
      "1    2808\n",
      "0     991\n",
      "Name: count, dtype: int64\n",
      "\n",
      "Value Counts for sother:\n",
      "sother\n",
      "0    3614\n",
      "1     185\n",
      "Name: count, dtype: int64\n",
      "\n",
      "Value Counts for smale:\n",
      "smale\n",
      "1    2012\n",
      "0    1787\n",
      "Name: count, dtype: int64\n",
      "\n",
      "Value Counts for omajblack:\n",
      "omajblack\n",
      "0    3568\n",
      "1     231\n",
      "Name: count, dtype: int64\n",
      "\n",
      "Value Counts for omajhisp:\n",
      "omajhisp\n",
      "0    3708\n",
      "1      91\n",
      "Name: count, dtype: int64\n",
      "\n",
      "Value Counts for omajwhite:\n",
      "omajwhite\n",
      "1    3433\n",
      "0     366\n",
      "Name: count, dtype: int64\n",
      "\n",
      "Value Counts for omajother:\n",
      "omajother\n",
      "0    3755\n",
      "1      44\n",
      "Name: count, dtype: int64\n",
      "\n",
      "Value Counts for osplit:\n",
      "osplit\n",
      "0    3799\n",
      "Name: count, dtype: int64\n",
      "\n",
      "Value Counts for inctype_lin:\n",
      "inctype_lin\n",
      "2    3641\n",
      "1     158\n",
      "Name: count, dtype: int64\n",
      "\n",
      "Value Counts for sbehavior:\n",
      "sbehavior\n",
      "0    3552\n",
      "1     247\n",
      "Name: count, dtype: int64\n"
     ]
    }
   ],
   "source": [
    "dat = pd.read_csv('ppcs_cc.csv')\n",
    "\n",
    "print(\"\\nDistribution of 'anyuseofforce_coded':\")\n",
    "print(dat['anyuseofforce_coded'].value_counts(normalize=True))\n",
    "\n",
    "categorical_vars = [\"sblack\", \"shisp\", \"swhite\", \"sother\", \"smale\", \"omajblack\", \n",
    "                    \"omajhisp\", \"omajwhite\", \"omajother\", \"osplit\", \"inctype_lin\", \"sbehavior\"]\n",
    "\n",
    "for var in categorical_vars:\n",
    "    print(f\"\\nValue Counts for {var}:\")\n",
    "    print(dat[var].value_counts())\n"
   ]
  }
 ],
 "metadata": {
  "kernelspec": {
   "display_name": "base",
   "language": "python",
   "name": "python3"
  },
  "language_info": {
   "codemirror_mode": {
    "name": "ipython",
    "version": 3
   },
   "file_extension": ".py",
   "mimetype": "text/x-python",
   "name": "python",
   "nbconvert_exporter": "python",
   "pygments_lexer": "ipython3",
   "version": "3.11.5"
  }
 },
 "nbformat": 4,
 "nbformat_minor": 2
}
