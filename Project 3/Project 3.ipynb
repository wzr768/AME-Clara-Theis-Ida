{
 "cells": [
  {
   "cell_type": "markdown",
   "metadata": {},
   "source": [
    "# Project III: Classical Non-linear Models and Police use of force\n",
    "This notebook uses the Police Public Contact Survey (PPCS) dataset: `ppcs_cc.csv`."
   ]
  },
  {
   "cell_type": "code",
   "execution_count": 1,
   "metadata": {},
   "outputs": [],
   "source": [
    "%load_ext autoreload\n",
    "%autoreload 2\n",
    "\n",
    "import pandas as pd \n",
    "import numpy as np\n",
    "import seaborn as sns\n",
    "import matplotlib.pyplot as plt \n",
    "import probit as probit\n",
    "import logit as logit\n",
    "import estimation as est\n",
    "from scipy.stats import norm\n",
    "from scipy.stats import t"
   ]
  },
  {
   "cell_type": "markdown",
   "metadata": {},
   "source": [
    "### Load the data "
   ]
  },
  {
   "cell_type": "code",
   "execution_count": null,
   "metadata": {},
   "outputs": [],
   "source": [
    "# Load the dataset\n",
    "dat = pd.read_csv('ppcs_cc.csv')\n",
    "\n",
    "# Inspect distribution of the target variable\n",
    "print(\"\\nDistribution of 'anyuseofforce_coded':\")\n",
    "print(dat['anyuseofforce_coded'].value_counts(normalize=True))\n",
    "\n",
    "# Inspect value counts for categorical variables\n",
    "categorical_vars = [\"sblack\", \"shisp\", \"swhite\", \"sother\", \"smale\", \"omajblack\", \n",
    "                    \"omajhisp\", \"omajwhite\", \"omajother\", \"osplit\", \"inctype_lin\", \"sbehavior\"]\n",
    "\n",
    "for var in categorical_vars:\n",
    "    print(f\"\\nValue Counts for {var}:\")\n",
    "    print(dat[var].value_counts())"
   ]
  },
  {
   "cell_type": "markdown",
   "metadata": {},
   "source": [
    "Table with summary statistics"
   ]
  },
  {
   "cell_type": "code",
   "execution_count": null,
   "metadata": {},
   "outputs": [],
   "source": [
    "# Define groups for demographic categories\n",
    "group_vars = [\"swhite\", \"sblack\", \"shisp\", \"sother\"]\n",
    "\n",
    "# List of all variables for which we want to compute means\n",
    "all_vars = dat.columns\n",
    "\n",
    "# Initialize an empty DataFrame to store results\n",
    "summary_table = pd.DataFrame()\n",
    "\n",
    "# Calculate the overall mean for each variable\n",
    "overall_means = dat[all_vars].mean()\n",
    "summary_table[\"Variable\"] = all_vars\n",
    "summary_table[\"Full Sample\"] = overall_means.values\n",
    "\n",
    "# Calculate the mean for each variable within each group\n",
    "for group in group_vars:\n",
    "    group_means = dat.loc[dat[group] == 1, all_vars].mean()\n",
    "    summary_table[group.capitalize()] = group_means.values\n",
    "\n",
    "# Add a row for \"Number of Observations\"\n",
    "num_obs_row = pd.DataFrame({\n",
    "    \"Variable\": [\"Number of Observations\"],\n",
    "    \"Full Sample\": [dat.shape[0]],\n",
    "    **{group.capitalize(): [dat.loc[dat[group] == 1].shape[0]] for group in group_vars}\n",
    "})\n",
    "\n",
    "# Append the \"Number of Observations\" row to the summary table\n",
    "summary_table = pd.concat([summary_table, num_obs_row], ignore_index=True)\n",
    "\n",
    "# Format the table for display\n",
    "summary_table = summary_table.set_index(\"Variable\")\n",
    "print(summary_table)\n",
    "\n",
    "# Optional: Save the table to a CSV for further analysis\n",
    "summary_table.to_csv('grouped_summary_statistics_with_observations.csv')\n"
   ]
  },
  {
   "cell_type": "code",
   "execution_count": null,
   "metadata": {},
   "outputs": [],
   "source": [
    "# Declare labels    \n",
    "y_lab = 'anyuseofforce_coded'\n",
    "#x_lab = ['const', 'sblack', 'shisp', 'sother']\n",
    "#x_lab = ['const', 'sblack', 'shisp', 'sother', 'smale', 'sempl', 'sincome', 'spop', 'sage', 'sagesq']\n",
    "#x_lab = ['const', 'sblack', 'shisp', 'sother', 'smale', 'sempl', 'sincome', 'spop', 'sage', 'sagesq', 'daytime', 'inctype_lin', 'omajblack', 'omajhisp', 'omajother']\n",
    "x_lab = ['const', 'sblack', 'shisp', 'sother', 'smale', 'sempl', 'sincome', 'spop', 'sage', 'sagesq', 'daytime', 'inctype_lin', 'omajblack', 'omajhisp', 'omajother', 'sbehavior']\n",
    "\n",
    "dat['sage'] = dat['sage'] / 10\n",
    "dat['sagesq'] = dat.sage * dat.sage \n",
    "\n",
    "# create extra variables \n",
    "N = dat.shape[0]\n",
    "dat['const'] = np.ones((N,))\n",
    "\n",
    "# Rebuild the dataset\n",
    "dat = dat[[y_lab] + x_lab].copy()\n",
    "\n",
    "# Check for missing data\n",
    "assert dat.notnull().all(axis=1).all(), 'Missing values detected. Clean your data!'\n",
    "\n",
    "dat.tail(5)"
   ]
  },
  {
   "cell_type": "code",
   "execution_count": null,
   "metadata": {},
   "outputs": [],
   "source": [
    "# Extract y and X\n",
    "y = dat[y_lab].values\n",
    "x = dat[x_lab].values\n",
    "K = x.shape[1]\n",
    "\n",
    "print(K)\n",
    "print(np.shape(x))"
   ]
  },
  {
   "cell_type": "code",
   "execution_count": null,
   "metadata": {},
   "outputs": [],
   "source": [
    "count_violent_1 = (dat['anyuseofforce_coded'] == 1).sum()\n",
    "print(f\"Number of 1s in 'anyuseofforce_coded': {count_violent_1}\")"
   ]
  },
  {
   "cell_type": "markdown",
   "metadata": {},
   "source": [
    "## Estimate using Probit"
   ]
  },
  {
   "cell_type": "code",
   "execution_count": null,
   "metadata": {},
   "outputs": [],
   "source": [
    "# Initialize starting values\n",
    "theta0 = probit.starting_values(y, x)\n",
    "\n",
    "# Estimate model with probit\n",
    "probit_results = est.estimate(probit.q, theta0, y, x, cov_type='Sandwich')"
   ]
  },
  {
   "cell_type": "code",
   "execution_count": null,
   "metadata": {},
   "outputs": [],
   "source": [
    "probit_tab = est.print_table(x_lab, probit_results, title=f'Probit, y = {y_lab}')\n",
    "probit_tab"
   ]
  },
  {
   "cell_type": "markdown",
   "metadata": {},
   "source": [
    "## Estimate using Logit"
   ]
  },
  {
   "cell_type": "code",
   "execution_count": null,
   "metadata": {},
   "outputs": [],
   "source": [
    "# Initialize starting values\n",
    "theta0 = logit.starting_values(y, x)\n",
    "\n",
    "# Estimate model with logit\n",
    "logit_results = est.estimate(logit.q, theta0, y, x, cov_type='Sandwich')"
   ]
  },
  {
   "cell_type": "code",
   "execution_count": null,
   "metadata": {},
   "outputs": [],
   "source": [
    "logit_tab = est.print_table(x_lab, logit_results, title=f'Logit, y = {y_lab}')\n",
    "logit_tab"
   ]
  },
  {
   "cell_type": "markdown",
   "metadata": {},
   "source": [
    "## Average partial effects"
   ]
  },
  {
   "cell_type": "markdown",
   "metadata": {},
   "source": [
    "### Probit"
   ]
  },
  {
   "cell_type": "code",
   "execution_count": null,
   "metadata": {},
   "outputs": [],
   "source": [
    "# Estimating the average partial effects using the probit\n",
    "indices = [x_lab.index('sblack'), x_lab.index('shisp'), x_lab.index('sother')]  \n",
    "labels = ['sblack', 'shispanic', 'sother'] \n",
    "probit.properties(x, probit_results['theta'],print_out = True,se=True,indices=indices, labels = labels)"
   ]
  },
  {
   "cell_type": "markdown",
   "metadata": {},
   "source": [
    "### Logit"
   ]
  },
  {
   "cell_type": "code",
   "execution_count": null,
   "metadata": {},
   "outputs": [],
   "source": [
    "# Estimating the average partial effects using the logit\n",
    "indices = [x_lab.index('sblack'), x_lab.index('shisp'), x_lab.index('sother')]  \n",
    "labels = ['sblack', 'shispanic', 'sother']  \n",
    "logit.properties(x, logit_results['theta'],print_out = True,se=True,indices=indices, labels = labels)"
   ]
  },
  {
   "cell_type": "markdown",
   "metadata": {},
   "source": [
    "## Partial Effects"
   ]
  },
  {
   "cell_type": "markdown",
   "metadata": {},
   "source": [
    "#### Defining different fixed vectors"
   ]
  },
  {
   "cell_type": "code",
   "execution_count": null,
   "metadata": {},
   "outputs": [],
   "source": [
    "#means of the regressors\n",
    "print(f\"{np.mean(dat['sage']):.2f}\")\n",
    "print(f\"{np.mean(dat['sagesq']):.2f}\")\n",
    "print(f\"{np.mean(dat['sincome']):.2f}\")\n",
    "print(f\"{np.mean(dat['spop']):.2f}\")"
   ]
  },
  {
   "cell_type": "code",
   "execution_count": null,
   "metadata": {},
   "outputs": [],
   "source": [
    "# Original vector\n",
    "x_lab = ['const', 'sblack', 'shisp', 'sother', 'smale', 'sage', 'sempl', 'sincome', 'spop', 'daytime', 'inctype_lin', 'omajblack', 'omajhisp', 'omajother', 'sbehavior','sagesq']\n",
    "\n",
    "x_me = np.array([1, 0, 0, 0, 1, 4.10, 0, 2.16, 1.36,0,1,0,0,0, 0,19.42]).reshape(1, -1)\n",
    "pd.DataFrame(x_me, columns=x_lab, index=['x_me'])\n"
   ]
  },
  {
   "cell_type": "code",
   "execution_count": 15,
   "metadata": {},
   "outputs": [],
   "source": [
    "### BEHAVIOR = 1 ###\n",
    "# Let us make a vector of the values we want to investigate\n",
    "#x_me= np.array([1, 0, 0, 0, 1, 4.1, 0, 2.16, 1.36,0,1,0,0,0,1,19.42]).reshape(1, -1)\n",
    "#pd.DataFrame(x_me, columns=x_lab, index=['x_behavior'])\n"
   ]
  },
  {
   "cell_type": "code",
   "execution_count": 16,
   "metadata": {},
   "outputs": [],
   "source": [
    "###DAYTIME = 1###\n",
    "# Let us make a vector of the values we want to investigate\n",
    "#x_me = np.array([1, 0, 0, 0, 1, 4.1, 0, 2.16, 1.36,1,1,0,0,0,0,19.42]).reshape(1, -1)\n",
    "#pd.DataFrame(x_me, columns=x_lab, index=['x_daytime'])\n"
   ]
  },
  {
   "cell_type": "markdown",
   "metadata": {},
   "source": [
    "#### Swiching race from white to black, hispanic and other"
   ]
  },
  {
   "cell_type": "code",
   "execution_count": null,
   "metadata": {},
   "outputs": [],
   "source": [
    "#k=1: black \n",
    "#k=2: hispanic\n",
    "#k=3: other\n",
    "\n",
    "k = 1\n",
    "x_me2 = x_me.copy()\n",
    "x_me2[:, k] = 1   \n",
    "pd.DataFrame(x_me2, columns=x_lab, index=['x_me2'])"
   ]
  },
  {
   "cell_type": "markdown",
   "metadata": {},
   "source": [
    "### Probit"
   ]
  },
  {
   "cell_type": "code",
   "execution_count": 18,
   "metadata": {},
   "outputs": [],
   "source": [
    "b_pr = probit_tab.theta.values\n",
    "me_race_pr = probit.G(x_me2@b_pr) - probit.G(x_me@b_pr) "
   ]
  },
  {
   "cell_type": "code",
   "execution_count": 19,
   "metadata": {},
   "outputs": [],
   "source": [
    "gx0 = norm.pdf(x_me@b_pr)\n",
    "gx2 = norm.pdf(x_me2@b_pr)\n",
    "\n",
    "grad_d_pr = gx2*x_me2 - gx0*x_me"
   ]
  },
  {
   "cell_type": "code",
   "execution_count": 20,
   "metadata": {},
   "outputs": [],
   "source": [
    "def get_se(grad, cov):\n",
    "    cov_me = grad@cov@grad.T\n",
    "    return np.sqrt(np.diag(cov_me))\n",
    "\n",
    "se_d_pr = get_se(grad_d_pr, probit_results['cov'])"
   ]
  },
  {
   "cell_type": "code",
   "execution_count": null,
   "metadata": {},
   "outputs": [],
   "source": [
    "me_dict = {'Marginal Effect': me_race_pr[0],\n",
    "           's.e.':            se_d_pr}\n",
    "tab = pd.DataFrame(me_dict)\n",
    "tab['t'] = tab['Marginal Effect'] / tab['s.e.']\n",
    "tab.index.name = 'Var'\n",
    "tab.round(6)"
   ]
  },
  {
   "cell_type": "markdown",
   "metadata": {},
   "source": [
    "### Logit"
   ]
  },
  {
   "cell_type": "code",
   "execution_count": 22,
   "metadata": {},
   "outputs": [],
   "source": [
    "b_lg = logit_tab.theta.values\n",
    "me_race_lg = logit.G(x_me2@b_lg) - logit.G(x_me@b_lg)"
   ]
  },
  {
   "cell_type": "code",
   "execution_count": 23,
   "metadata": {},
   "outputs": [],
   "source": [
    "# Compute the logistic function exponential terms for x_me2 and x_me\n",
    "exp_x0_b = np.exp(-(x_me@b_lg))\n",
    "exp_x2_b = np.exp(-(x_me2@b_lg))\n",
    "\n",
    "grad_d_lg = (x_me2 * exp_x2_b)/ (1 + exp_x2_b)**2 - (x_me * exp_x0_b)/ (1 + exp_x0_b)**2\n",
    "\n",
    "se_d_lg = get_se(grad_d_lg, logit_results['cov'])"
   ]
  },
  {
   "cell_type": "code",
   "execution_count": null,
   "metadata": {},
   "outputs": [],
   "source": [
    "me_dict = {'Marginal Effect': me_race_lg[0],\n",
    "           's.e.':            se_d_lg}\n",
    "tab = pd.DataFrame(me_dict)\n",
    "tab['t'] = tab['Marginal Effect'] / tab['s.e.']\n",
    "tab.index.name = 'Var'\n",
    "tab.round(6)"
   ]
  }
 ],
 "metadata": {
  "kernelspec": {
   "display_name": "base",
   "language": "python",
   "name": "python3"
  },
  "language_info": {
   "codemirror_mode": {
    "name": "ipython",
    "version": 3
   },
   "file_extension": ".py",
   "mimetype": "text/x-python",
   "name": "python",
   "nbconvert_exporter": "python",
   "pygments_lexer": "ipython3",
   "version": "3.11.7"
  }
 },
 "nbformat": 4,
 "nbformat_minor": 2
}
